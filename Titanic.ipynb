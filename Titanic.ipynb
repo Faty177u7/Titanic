{
  "nbformat": 4,
  "nbformat_minor": 0,
  "metadata": {
    "colab": {
      "name": "Titanic.ipynb",
      "provenance": [],
      "authorship_tag": "ABX9TyPrRxTVgi1HxxK2chHWU9bc",
      "include_colab_link": true
    },
    "kernelspec": {
      "name": "python3",
      "display_name": "Python 3"
    },
    "language_info": {
      "name": "python"
    }
  },
  "cells": [
    {
      "cell_type": "markdown",
      "metadata": {
        "id": "view-in-github",
        "colab_type": "text"
      },
      "source": [
        "<a href=\"https://colab.research.google.com/github/Faty177u7/Titanic/blob/main/Titanic.ipynb\" target=\"_parent\"><img src=\"https://colab.research.google.com/assets/colab-badge.svg\" alt=\"Open In Colab\"/></a>"
      ]
    },
    {
      "cell_type": "markdown",
      "metadata": {
        "id": "-KbcV4Juyska"
      },
      "source": [
        "# Extracción de Conocimientos.\n",
        "\n",
        "**Profesor:** Salvador HM \n",
        "\n",
        "**Nombre:** Fatima Yatcin Perez Cruz.\n",
        "\n",
        "**Grupo:** IDGS91\n"
      ]
    },
    {
      "cell_type": "markdown",
      "metadata": {
        "id": "rmUuWxTFR1O4"
      },
      "source": [
        "#Importar Dataset"
      ]
    },
    {
      "cell_type": "code",
      "metadata": {
        "id": "4YtSqBBURzu4"
      },
      "source": [
        "import numpy as np\n",
        "import pandas as pd\n",
        "import matplotlib.pyplot as plt\n",
        "\n",
        "from sklearn.linear_model import LogisticRegression\n",
        "\n",
        "from sklearn.model_selection import  train_test_split\n",
        "\n",
        "from sklearn.metrics import accuracy_score\n",
        "from sklearn.metrics import precision_score\n",
        "from sklearn.metrics import recall_score\n",
        "from sklearn.metrics import f1_score\n",
        "from sklearn.metrics import classification_report\n",
        "from sklearn.metrics import confusion_matrix\n",
        "from sklearn.metrics import plot_confusion_matrix\n",
        "\n",
        "pd.options.display.max_columns = 9 #Configuración para mostrar columnas deseadas.\n",
        "\n"
      ],
      "execution_count": 223,
      "outputs": []
    },
    {
      "cell_type": "markdown",
      "metadata": {
        "id": "1v_EynmbRx4U"
      },
      "source": [
        "#Importar el Dataset"
      ]
    },
    {
      "cell_type": "code",
      "metadata": {
        "id": "9R4OXfPNRtEY"
      },
      "source": [
        "df = pd.read_csv(\"titanic.csv\")"
      ],
      "execution_count": 224,
      "outputs": []
    },
    {
      "cell_type": "markdown",
      "metadata": {
        "id": "JExmnfnJUV0P"
      },
      "source": [
        "Analizar el dataframe"
      ]
    },
    {
      "cell_type": "code",
      "metadata": {
        "colab": {
          "base_uri": "https://localhost:8080/"
        },
        "id": "hyOZUYBZUZvF",
        "outputId": "ad3cd3c2-f282-456f-8253-44deff5f2e9b"
      },
      "source": [
        "df.info()"
      ],
      "execution_count": 225,
      "outputs": [
        {
          "output_type": "stream",
          "name": "stdout",
          "text": [
            "<class 'pandas.core.frame.DataFrame'>\n",
            "RangeIndex: 887 entries, 0 to 886\n",
            "Data columns (total 7 columns):\n",
            " #   Column            Non-Null Count  Dtype  \n",
            "---  ------            --------------  -----  \n",
            " 0   Survived          887 non-null    int64  \n",
            " 1   Pclass            887 non-null    int64  \n",
            " 2   Sex               887 non-null    object \n",
            " 3   Age               887 non-null    float64\n",
            " 4   Siblings/Spouses  887 non-null    int64  \n",
            " 5   Parents/Children  887 non-null    int64  \n",
            " 6   Fare              887 non-null    float64\n",
            "dtypes: float64(2), int64(4), object(1)\n",
            "memory usage: 48.6+ KB\n"
          ]
        }
      ]
    },
    {
      "cell_type": "code",
      "metadata": {
        "colab": {
          "base_uri": "https://localhost:8080/",
          "height": 206
        },
        "id": "CqGPbiAzUnNb",
        "outputId": "5729aa0d-2e34-4ade-8fdd-adcf4acd122a"
      },
      "source": [
        "df.head()"
      ],
      "execution_count": 226,
      "outputs": [
        {
          "output_type": "execute_result",
          "data": {
            "text/html": [
              "<div>\n",
              "<style scoped>\n",
              "    .dataframe tbody tr th:only-of-type {\n",
              "        vertical-align: middle;\n",
              "    }\n",
              "\n",
              "    .dataframe tbody tr th {\n",
              "        vertical-align: top;\n",
              "    }\n",
              "\n",
              "    .dataframe thead th {\n",
              "        text-align: right;\n",
              "    }\n",
              "</style>\n",
              "<table border=\"1\" class=\"dataframe\">\n",
              "  <thead>\n",
              "    <tr style=\"text-align: right;\">\n",
              "      <th></th>\n",
              "      <th>Survived</th>\n",
              "      <th>Pclass</th>\n",
              "      <th>Sex</th>\n",
              "      <th>Age</th>\n",
              "      <th>Siblings/Spouses</th>\n",
              "      <th>Parents/Children</th>\n",
              "      <th>Fare</th>\n",
              "    </tr>\n",
              "  </thead>\n",
              "  <tbody>\n",
              "    <tr>\n",
              "      <th>0</th>\n",
              "      <td>0</td>\n",
              "      <td>3</td>\n",
              "      <td>male</td>\n",
              "      <td>22.0</td>\n",
              "      <td>1</td>\n",
              "      <td>0</td>\n",
              "      <td>7.2500</td>\n",
              "    </tr>\n",
              "    <tr>\n",
              "      <th>1</th>\n",
              "      <td>1</td>\n",
              "      <td>1</td>\n",
              "      <td>female</td>\n",
              "      <td>38.0</td>\n",
              "      <td>1</td>\n",
              "      <td>0</td>\n",
              "      <td>71.2833</td>\n",
              "    </tr>\n",
              "    <tr>\n",
              "      <th>2</th>\n",
              "      <td>1</td>\n",
              "      <td>3</td>\n",
              "      <td>female</td>\n",
              "      <td>26.0</td>\n",
              "      <td>0</td>\n",
              "      <td>0</td>\n",
              "      <td>7.9250</td>\n",
              "    </tr>\n",
              "    <tr>\n",
              "      <th>3</th>\n",
              "      <td>1</td>\n",
              "      <td>1</td>\n",
              "      <td>female</td>\n",
              "      <td>35.0</td>\n",
              "      <td>1</td>\n",
              "      <td>0</td>\n",
              "      <td>53.1000</td>\n",
              "    </tr>\n",
              "    <tr>\n",
              "      <th>4</th>\n",
              "      <td>0</td>\n",
              "      <td>3</td>\n",
              "      <td>male</td>\n",
              "      <td>35.0</td>\n",
              "      <td>0</td>\n",
              "      <td>0</td>\n",
              "      <td>8.0500</td>\n",
              "    </tr>\n",
              "  </tbody>\n",
              "</table>\n",
              "</div>"
            ],
            "text/plain": [
              "   Survived  Pclass     Sex   Age  Siblings/Spouses  Parents/Children     Fare\n",
              "0         0       3    male  22.0                 1                 0   7.2500\n",
              "1         1       1  female  38.0                 1                 0  71.2833\n",
              "2         1       3  female  26.0                 0                 0   7.9250\n",
              "3         1       1  female  35.0                 1                 0  53.1000\n",
              "4         0       3    male  35.0                 0                 0   8.0500"
            ]
          },
          "metadata": {},
          "execution_count": 226
        }
      ]
    },
    {
      "cell_type": "code",
      "metadata": {
        "colab": {
          "base_uri": "https://localhost:8080/",
          "height": 300
        },
        "id": "ZwxQ3GkLU3_c",
        "outputId": "0ca1ef40-efae-4745-b544-990a10487597"
      },
      "source": [
        "df.describe()"
      ],
      "execution_count": 227,
      "outputs": [
        {
          "output_type": "execute_result",
          "data": {
            "text/html": [
              "<div>\n",
              "<style scoped>\n",
              "    .dataframe tbody tr th:only-of-type {\n",
              "        vertical-align: middle;\n",
              "    }\n",
              "\n",
              "    .dataframe tbody tr th {\n",
              "        vertical-align: top;\n",
              "    }\n",
              "\n",
              "    .dataframe thead th {\n",
              "        text-align: right;\n",
              "    }\n",
              "</style>\n",
              "<table border=\"1\" class=\"dataframe\">\n",
              "  <thead>\n",
              "    <tr style=\"text-align: right;\">\n",
              "      <th></th>\n",
              "      <th>Survived</th>\n",
              "      <th>Pclass</th>\n",
              "      <th>Age</th>\n",
              "      <th>Siblings/Spouses</th>\n",
              "      <th>Parents/Children</th>\n",
              "      <th>Fare</th>\n",
              "    </tr>\n",
              "  </thead>\n",
              "  <tbody>\n",
              "    <tr>\n",
              "      <th>count</th>\n",
              "      <td>887.000000</td>\n",
              "      <td>887.000000</td>\n",
              "      <td>887.000000</td>\n",
              "      <td>887.000000</td>\n",
              "      <td>887.000000</td>\n",
              "      <td>887.00000</td>\n",
              "    </tr>\n",
              "    <tr>\n",
              "      <th>mean</th>\n",
              "      <td>0.385569</td>\n",
              "      <td>2.305524</td>\n",
              "      <td>29.471443</td>\n",
              "      <td>0.525366</td>\n",
              "      <td>0.383315</td>\n",
              "      <td>32.30542</td>\n",
              "    </tr>\n",
              "    <tr>\n",
              "      <th>std</th>\n",
              "      <td>0.487004</td>\n",
              "      <td>0.836662</td>\n",
              "      <td>14.121908</td>\n",
              "      <td>1.104669</td>\n",
              "      <td>0.807466</td>\n",
              "      <td>49.78204</td>\n",
              "    </tr>\n",
              "    <tr>\n",
              "      <th>min</th>\n",
              "      <td>0.000000</td>\n",
              "      <td>1.000000</td>\n",
              "      <td>0.420000</td>\n",
              "      <td>0.000000</td>\n",
              "      <td>0.000000</td>\n",
              "      <td>0.00000</td>\n",
              "    </tr>\n",
              "    <tr>\n",
              "      <th>25%</th>\n",
              "      <td>0.000000</td>\n",
              "      <td>2.000000</td>\n",
              "      <td>20.250000</td>\n",
              "      <td>0.000000</td>\n",
              "      <td>0.000000</td>\n",
              "      <td>7.92500</td>\n",
              "    </tr>\n",
              "    <tr>\n",
              "      <th>50%</th>\n",
              "      <td>0.000000</td>\n",
              "      <td>3.000000</td>\n",
              "      <td>28.000000</td>\n",
              "      <td>0.000000</td>\n",
              "      <td>0.000000</td>\n",
              "      <td>14.45420</td>\n",
              "    </tr>\n",
              "    <tr>\n",
              "      <th>75%</th>\n",
              "      <td>1.000000</td>\n",
              "      <td>3.000000</td>\n",
              "      <td>38.000000</td>\n",
              "      <td>1.000000</td>\n",
              "      <td>0.000000</td>\n",
              "      <td>31.13750</td>\n",
              "    </tr>\n",
              "    <tr>\n",
              "      <th>max</th>\n",
              "      <td>1.000000</td>\n",
              "      <td>3.000000</td>\n",
              "      <td>80.000000</td>\n",
              "      <td>8.000000</td>\n",
              "      <td>6.000000</td>\n",
              "      <td>512.32920</td>\n",
              "    </tr>\n",
              "  </tbody>\n",
              "</table>\n",
              "</div>"
            ],
            "text/plain": [
              "         Survived      Pclass         Age  Siblings/Spouses  Parents/Children  \\\n",
              "count  887.000000  887.000000  887.000000        887.000000        887.000000   \n",
              "mean     0.385569    2.305524   29.471443          0.525366          0.383315   \n",
              "std      0.487004    0.836662   14.121908          1.104669          0.807466   \n",
              "min      0.000000    1.000000    0.420000          0.000000          0.000000   \n",
              "25%      0.000000    2.000000   20.250000          0.000000          0.000000   \n",
              "50%      0.000000    3.000000   28.000000          0.000000          0.000000   \n",
              "75%      1.000000    3.000000   38.000000          1.000000          0.000000   \n",
              "max      1.000000    3.000000   80.000000          8.000000          6.000000   \n",
              "\n",
              "            Fare  \n",
              "count  887.00000  \n",
              "mean    32.30542  \n",
              "std     49.78204  \n",
              "min      0.00000  \n",
              "25%      7.92500  \n",
              "50%     14.45420  \n",
              "75%     31.13750  \n",
              "max    512.32920  "
            ]
          },
          "metadata": {},
          "execution_count": 227
        }
      ]
    },
    {
      "cell_type": "markdown",
      "metadata": {
        "id": "H_2tmkccVXOX"
      },
      "source": [
        "#Crear Columna (Feature ingenering )\n",
        "\n",
        "Procesamiento de las columas y caracteristicas para calcular y imputar valores."
      ]
    },
    {
      "cell_type": "code",
      "metadata": {
        "id": "cgFz26QRVcBY"
      },
      "source": [
        "df['Male'] = df ['Sex'] == 'male'"
      ],
      "execution_count": 228,
      "outputs": []
    },
    {
      "cell_type": "code",
      "metadata": {
        "colab": {
          "base_uri": "https://localhost:8080/",
          "height": 206
        },
        "id": "RrV5uTYTXeuN",
        "outputId": "d49c4bd7-647b-4746-deb3-c516297ef259"
      },
      "source": [
        "df.head()"
      ],
      "execution_count": 229,
      "outputs": [
        {
          "output_type": "execute_result",
          "data": {
            "text/html": [
              "<div>\n",
              "<style scoped>\n",
              "    .dataframe tbody tr th:only-of-type {\n",
              "        vertical-align: middle;\n",
              "    }\n",
              "\n",
              "    .dataframe tbody tr th {\n",
              "        vertical-align: top;\n",
              "    }\n",
              "\n",
              "    .dataframe thead th {\n",
              "        text-align: right;\n",
              "    }\n",
              "</style>\n",
              "<table border=\"1\" class=\"dataframe\">\n",
              "  <thead>\n",
              "    <tr style=\"text-align: right;\">\n",
              "      <th></th>\n",
              "      <th>Survived</th>\n",
              "      <th>Pclass</th>\n",
              "      <th>Sex</th>\n",
              "      <th>Age</th>\n",
              "      <th>Siblings/Spouses</th>\n",
              "      <th>Parents/Children</th>\n",
              "      <th>Fare</th>\n",
              "      <th>Male</th>\n",
              "    </tr>\n",
              "  </thead>\n",
              "  <tbody>\n",
              "    <tr>\n",
              "      <th>0</th>\n",
              "      <td>0</td>\n",
              "      <td>3</td>\n",
              "      <td>male</td>\n",
              "      <td>22.0</td>\n",
              "      <td>1</td>\n",
              "      <td>0</td>\n",
              "      <td>7.2500</td>\n",
              "      <td>True</td>\n",
              "    </tr>\n",
              "    <tr>\n",
              "      <th>1</th>\n",
              "      <td>1</td>\n",
              "      <td>1</td>\n",
              "      <td>female</td>\n",
              "      <td>38.0</td>\n",
              "      <td>1</td>\n",
              "      <td>0</td>\n",
              "      <td>71.2833</td>\n",
              "      <td>False</td>\n",
              "    </tr>\n",
              "    <tr>\n",
              "      <th>2</th>\n",
              "      <td>1</td>\n",
              "      <td>3</td>\n",
              "      <td>female</td>\n",
              "      <td>26.0</td>\n",
              "      <td>0</td>\n",
              "      <td>0</td>\n",
              "      <td>7.9250</td>\n",
              "      <td>False</td>\n",
              "    </tr>\n",
              "    <tr>\n",
              "      <th>3</th>\n",
              "      <td>1</td>\n",
              "      <td>1</td>\n",
              "      <td>female</td>\n",
              "      <td>35.0</td>\n",
              "      <td>1</td>\n",
              "      <td>0</td>\n",
              "      <td>53.1000</td>\n",
              "      <td>False</td>\n",
              "    </tr>\n",
              "    <tr>\n",
              "      <th>4</th>\n",
              "      <td>0</td>\n",
              "      <td>3</td>\n",
              "      <td>male</td>\n",
              "      <td>35.0</td>\n",
              "      <td>0</td>\n",
              "      <td>0</td>\n",
              "      <td>8.0500</td>\n",
              "      <td>True</td>\n",
              "    </tr>\n",
              "  </tbody>\n",
              "</table>\n",
              "</div>"
            ],
            "text/plain": [
              "   Survived  Pclass     Sex   Age  Siblings/Spouses  Parents/Children  \\\n",
              "0         0       3    male  22.0                 1                 0   \n",
              "1         1       1  female  38.0                 1                 0   \n",
              "2         1       3  female  26.0                 0                 0   \n",
              "3         1       1  female  35.0                 1                 0   \n",
              "4         0       3    male  35.0                 0                 0   \n",
              "\n",
              "      Fare   Male  \n",
              "0   7.2500   True  \n",
              "1  71.2833  False  \n",
              "2   7.9250  False  \n",
              "3  53.1000  False  \n",
              "4   8.0500   True  "
            ]
          },
          "metadata": {},
          "execution_count": 229
        }
      ]
    },
    {
      "cell_type": "code",
      "metadata": {
        "colab": {
          "base_uri": "https://localhost:8080/"
        },
        "id": "HHVgVI07YFd7",
        "outputId": "2c47adcc-d78b-4c7b-cf67-8f08b526102a"
      },
      "source": [
        "df['Male'].sum()"
      ],
      "execution_count": 230,
      "outputs": [
        {
          "output_type": "execute_result",
          "data": {
            "text/plain": [
              "573"
            ]
          },
          "metadata": {},
          "execution_count": 230
        }
      ]
    },
    {
      "cell_type": "markdown",
      "metadata": {
        "id": "Fsw1reQUZBj2"
      },
      "source": [
        "#Scatter Plot\n",
        "\n"
      ]
    },
    {
      "cell_type": "code",
      "metadata": {
        "colab": {
          "base_uri": "https://localhost:8080/",
          "height": 352
        },
        "id": "XHg_xKapZH78",
        "outputId": "585f5d4c-ccfd-4044-b703-7a70ec2f6f39"
      },
      "source": [
        "plt.figure(figsize=(8,5))\n",
        "plt.scatter(df['Fare'], df['Age'],c=df['Male'])\n",
        "plt.xlabel(\"Fare\")\n",
        "plt.ylabel(\"Age\")"
      ],
      "execution_count": 231,
      "outputs": [
        {
          "output_type": "execute_result",
          "data": {
            "text/plain": [
              "Text(0, 0.5, 'Age')"
            ]
          },
          "metadata": {},
          "execution_count": 231
        },
        {
          "output_type": "display_data",
          "data": {
            "image/png": "[encoded data removed]",
            "text/plain": [
              "<Figure size 576x360 with 1 Axes>"
            ]
          },
          "metadata": {
            "needs_background": "light"
          }
        }
      ]
    },
    {
      "cell_type": "markdown",
      "metadata": {
        "id": "iZNizes4awPQ"
      },
      "source": [
        "#Separar Caractersticas y Objetivo"
      ]
    },
    {
      "cell_type": "markdown",
      "metadata": {
        "id": "_ivoonrIE2zg"
      },
      "source": [
        "#Con Values"
      ]
    },
    {
      "cell_type": "code",
      "metadata": {
        "id": "U3XeNdEHavtE"
      },
      "source": [
        "X = df[['Pclass', 'Age','Siblings/Spouses', 'Parents/Children', 'Fare', 'Male']].values\n",
        "y = df['Survived'].values"
      ],
      "execution_count": 232,
      "outputs": []
    },
    {
      "cell_type": "code",
      "metadata": {
        "colab": {
          "base_uri": "https://localhost:8080/"
        },
        "id": "6kE9DF24bfGj",
        "outputId": "d6db09bc-e9f3-4388-ef8d-8ea25ebcddcb"
      },
      "source": [
        "y"
      ],
      "execution_count": 233,
      "outputs": [
        {
          "output_type": "execute_result",
          "data": {
            "text/plain": [
              "array([0, 1, 1, 1, 0, 0, 0, 0, 1, 1, 1, 1, 0, 0, 0, 1, 0, 1, 0, 1, 0, 1,\n",
              "       1, 1, 0, 1, 0, 0, 1, 0, 0, 1, 1, 0, 0, 0, 1, 0, 0, 1, 0, 0, 1, 1,\n",
              "       0, 0, 1, 0, 0, 0, 0, 1, 1, 0, 1, 1, 0, 1, 0, 0, 1, 0, 0, 0, 1, 1,\n",
              "       0, 1, 0, 0, 0, 0, 0, 1, 0, 0, 0, 1, 1, 0, 1, 1, 0, 1, 1, 0, 0, 1,\n",
              "       0, 0, 0, 0, 0, 0, 0, 0, 1, 1, 0, 0, 0, 0, 0, 0, 0, 1, 1, 0, 1, 0,\n",
              "       0, 0, 0, 0, 0, 0, 0, 0, 0, 0, 0, 0, 1, 0, 1, 0, 1, 1, 0, 0, 0, 0,\n",
              "       1, 0, 0, 1, 0, 0, 0, 0, 1, 1, 0, 0, 0, 1, 0, 0, 0, 0, 1, 0, 0, 0,\n",
              "       0, 1, 0, 0, 0, 0, 1, 0, 0, 0, 1, 1, 0, 0, 0, 0, 0, 1, 0, 0, 0, 0,\n",
              "       0, 0, 0, 0, 0, 0, 1, 1, 0, 1, 1, 0, 0, 1, 0, 1, 1, 1, 1, 0, 0, 1,\n",
              "       0, 0, 0, 0, 0, 1, 0, 0, 1, 1, 1, 0, 1, 0, 0, 0, 1, 1, 0, 1, 0, 1,\n",
              "       0, 0, 0, 1, 0, 1, 0, 0, 0, 1, 0, 0, 1, 0, 0, 0, 1, 0, 0, 0, 1, 0,\n",
              "       0, 0, 0, 0, 1, 1, 0, 0, 0, 0, 0, 0, 1, 1, 1, 1, 1, 1, 0, 0, 0, 0,\n",
              "       0, 1, 1, 1, 0, 1, 1, 0, 1, 1, 0, 0, 0, 1, 0, 0, 0, 1, 0, 0, 1, 0,\n",
              "       1, 1, 1, 1, 0, 0, 0, 0, 0, 0, 1, 1, 1, 1, 0, 1, 0, 1, 1, 1, 0, 1,\n",
              "       1, 1, 0, 0, 0, 1, 1, 0, 1, 1, 0, 0, 1, 1, 0, 1, 0, 1, 1, 1, 1, 0,\n",
              "       0, 0, 1, 0, 0, 1, 1, 0, 1, 1, 0, 0, 0, 1, 1, 1, 1, 0, 0, 0, 0, 0,\n",
              "       0, 0, 1, 0, 1, 1, 0, 0, 0, 0, 0, 0, 1, 1, 1, 1, 1, 0, 0, 0, 0, 1,\n",
              "       1, 0, 0, 0, 1, 1, 0, 1, 0, 0, 0, 1, 0, 1, 1, 1, 0, 1, 1, 0, 0, 0,\n",
              "       0, 1, 1, 0, 0, 0, 0, 0, 0, 1, 0, 0, 0, 0, 1, 0, 1, 0, 1, 1, 0, 0,\n",
              "       0, 0, 0, 0, 0, 1, 1, 0, 1, 1, 1, 1, 0, 0, 1, 0, 1, 0, 0, 1, 0, 0,\n",
              "       1, 1, 1, 1, 1, 1, 1, 0, 0, 0, 1, 0, 1, 0, 1, 1, 0, 1, 0, 0, 0, 0,\n",
              "       0, 0, 0, 0, 1, 0, 0, 1, 1, 0, 0, 0, 0, 0, 1, 0, 0, 0, 1, 1, 0, 1,\n",
              "       0, 0, 1, 0, 0, 0, 0, 0, 0, 1, 0, 0, 0, 0, 0, 0, 0, 1, 0, 1, 1, 0,\n",
              "       1, 1, 0, 1, 1, 0, 0, 1, 0, 1, 0, 1, 0, 0, 1, 0, 0, 1, 0, 0, 0, 1,\n",
              "       0, 0, 1, 0, 1, 0, 1, 0, 1, 1, 0, 0, 1, 0, 0, 1, 1, 0, 1, 1, 0, 0,\n",
              "       1, 1, 0, 1, 0, 1, 1, 0, 0, 0, 0, 0, 0, 0, 0, 0, 1, 1, 1, 1, 1, 0,\n",
              "       0, 1, 1, 0, 1, 1, 1, 0, 0, 0, 1, 0, 1, 0, 0, 0, 1, 0, 0, 0, 0, 1,\n",
              "       0, 0, 1, 1, 0, 0, 0, 1, 0, 0, 1, 1, 1, 0, 0, 1, 0, 0, 1, 0, 0, 1,\n",
              "       0, 0, 1, 1, 0, 0, 0, 0, 1, 0, 0, 1, 0, 1, 0, 0, 1, 0, 0, 0, 0, 0,\n",
              "       1, 0, 1, 1, 1, 0, 1, 0, 1, 0, 1, 0, 1, 0, 0, 0, 0, 0, 0, 1, 0, 0,\n",
              "       0, 1, 0, 0, 0, 0, 1, 1, 0, 0, 1, 0, 0, 0, 1, 0, 1, 0, 1, 0, 0, 0,\n",
              "       0, 0, 0, 0, 1, 1, 1, 1, 0, 0, 0, 0, 1, 0, 0, 1, 1, 0, 0, 0, 0, 1,\n",
              "       1, 1, 1, 1, 0, 1, 0, 0, 0, 1, 1, 0, 1, 0, 0, 0, 1, 0, 1, 1, 0, 0,\n",
              "       1, 0, 0, 0, 0, 0, 0, 1, 0, 0, 1, 0, 1, 0, 1, 0, 0, 1, 0, 0, 1, 1,\n",
              "       0, 0, 1, 1, 0, 0, 0, 1, 0, 0, 1, 1, 0, 1, 0, 0, 0, 0, 0, 0, 0, 0,\n",
              "       1, 0, 0, 1, 0, 1, 1, 1, 0, 0, 0, 0, 1, 0, 1, 0, 0, 0, 0, 0, 0, 0,\n",
              "       1, 1, 0, 0, 0, 1, 1, 1, 1, 0, 0, 0, 0, 1, 0, 0, 0, 0, 0, 0, 0, 0,\n",
              "       0, 0, 1, 1, 0, 1, 0, 0, 0, 1, 1, 1, 1, 1, 0, 0, 0, 1, 0, 0, 1, 1,\n",
              "       0, 0, 1, 0, 0, 0, 0, 0, 0, 1, 0, 0, 0, 1, 0, 1, 1, 1, 1, 0, 0, 0,\n",
              "       1, 0, 0, 1, 1, 0, 0, 1, 0, 1, 0, 0, 1, 1, 0, 0, 0, 1, 1, 0, 0, 0,\n",
              "       0, 0, 0, 1, 0, 1, 0])"
            ]
          },
          "metadata": {},
          "execution_count": 233
        }
      ]
    },
    {
      "cell_type": "markdown",
      "metadata": {
        "id": "-vY2yn7ZE64h"
      },
      "source": [
        "#Sin Values"
      ]
    },
    {
      "cell_type": "code",
      "metadata": {
        "id": "GdkxLioJXcNM"
      },
      "source": [
        "x = df[['Pclass', 'Age','Siblings/Spouses', 'Parents/Children', 'Fare', 'Male']].values\n",
        "y = df['Survived']"
      ],
      "execution_count": 234,
      "outputs": []
    },
    {
      "cell_type": "code",
      "metadata": {
        "colab": {
          "base_uri": "https://localhost:8080/"
        },
        "id": "GZJNJWI4Xey5",
        "outputId": "3742ed96-393e-4c6e-abd6-a6fb13be432b"
      },
      "source": [
        "y"
      ],
      "execution_count": 235,
      "outputs": [
        {
          "output_type": "execute_result",
          "data": {
            "text/plain": [
              "0      0\n",
              "1      1\n",
              "2      1\n",
              "3      1\n",
              "4      0\n",
              "      ..\n",
              "882    0\n",
              "883    1\n",
              "884    0\n",
              "885    1\n",
              "886    0\n",
              "Name: Survived, Length: 887, dtype: int64"
            ]
          },
          "metadata": {},
          "execution_count": 235
        }
      ]
    },
    {
      "cell_type": "markdown",
      "metadata": {
        "id": "HvsQ3J9nbkuN"
      },
      "source": [
        "#Configurar el Modelo"
      ]
    },
    {
      "cell_type": "code",
      "metadata": {
        "id": "Pix_vNKVbnV7"
      },
      "source": [
        "model = LogisticRegression()"
      ],
      "execution_count": 236,
      "outputs": []
    },
    {
      "cell_type": "markdown",
      "metadata": {
        "id": "urMrYZrAbqiq"
      },
      "source": [
        "#Dividir en Train Test"
      ]
    },
    {
      "cell_type": "code",
      "metadata": {
        "id": "mXl5FuCRbm85"
      },
      "source": [
        "X_train, X_test, y_train, y_test = train_test_split(X,y, test_size=0.2, random_state=124)"
      ],
      "execution_count": 237,
      "outputs": []
    },
    {
      "cell_type": "code",
      "metadata": {
        "colab": {
          "base_uri": "https://localhost:8080/"
        },
        "id": "bjMbnCMVYJw6",
        "outputId": "204031cc-55f4-46b7-9a39-5d539b81e893"
      },
      "source": [
        "y_test"
      ],
      "execution_count": 238,
      "outputs": [
        {
          "output_type": "execute_result",
          "data": {
            "text/plain": [
              "170    0\n",
              "114    0\n",
              "533    0\n",
              "288    1\n",
              "616    0\n",
              "      ..\n",
              "773    1\n",
              "349    0\n",
              "559    0\n",
              "155    1\n",
              "523    1\n",
              "Name: Survived, Length: 178, dtype: int64"
            ]
          },
          "metadata": {},
          "execution_count": 238
        }
      ]
    },
    {
      "cell_type": "markdown",
      "metadata": {
        "id": "0eVfRj5bCi7H"
      },
      "source": [
        "#Entrenar"
      ]
    },
    {
      "cell_type": "code",
      "metadata": {
        "colab": {
          "base_uri": "https://localhost:8080/"
        },
        "id": "GXv3OFloClut",
        "outputId": "8c576b03-d699-49b5-a296-30c7e357cbbb"
      },
      "source": [
        "model.fit(X_train,y_train)"
      ],
      "execution_count": 239,
      "outputs": [
        {
          "output_type": "execute_result",
          "data": {
            "text/plain": [
              "LogisticRegression()"
            ]
          },
          "metadata": {},
          "execution_count": 239
        }
      ]
    },
    {
      "cell_type": "markdown",
      "metadata": {
        "id": "HQLTAf18cKs6"
      },
      "source": [
        "#Predicciones"
      ]
    },
    {
      "cell_type": "code",
      "metadata": {
        "id": "vygOkfnxcNUV"
      },
      "source": [
        "y_pred = model.predict(X_test)"
      ],
      "execution_count": 240,
      "outputs": []
    },
    {
      "cell_type": "markdown",
      "metadata": {
        "id": "Px81b5cZcSRN"
      },
      "source": [
        "#Analizar las Predicciones"
      ]
    },
    {
      "cell_type": "code",
      "metadata": {
        "id": "clG7U_ancVVv",
        "colab": {
          "base_uri": "https://localhost:8080/"
        },
        "outputId": "9bd7dc5e-cbf2-45df-9026-2594f8f42d03"
      },
      "source": [
        "X_test.shape"
      ],
      "execution_count": 241,
      "outputs": [
        {
          "output_type": "execute_result",
          "data": {
            "text/plain": [
              "(178, 6)"
            ]
          },
          "metadata": {},
          "execution_count": 241
        }
      ]
    },
    {
      "cell_type": "code",
      "metadata": {
        "colab": {
          "base_uri": "https://localhost:8080/"
        },
        "id": "dLPjLgUjDC8a",
        "outputId": "0dc0fa65-a101-41d4-a88e-dd4121acedd3"
      },
      "source": [
        "X_test[:]"
      ],
      "execution_count": 242,
      "outputs": [
        {
          "output_type": "execute_result",
          "data": {
            "text/plain": [
              "array([[3, 4.0, 4, 1, 29.125, True],\n",
              "       [3, 21.0, 0, 0, 7.925, True],\n",
              "       [1, 45.0, 0, 0, 26.55, True],\n",
              "       ...,\n",
              "       [2, 28.0, 0, 0, 13.5, True],\n",
              "       [3, 16.0, 0, 0, 7.7333, False],\n",
              "       [2, 50.0, 0, 0, 10.5, False]], dtype=object)"
            ]
          },
          "metadata": {},
          "execution_count": 242
        }
      ]
    },
    {
      "cell_type": "code",
      "metadata": {
        "colab": {
          "base_uri": "https://localhost:8080/"
        },
        "id": "fCCJYdvEGnXj",
        "outputId": "0f02bfce-3d58-49f8-c0ee-a060285bc216"
      },
      "source": [
        "y_test[:]"
      ],
      "execution_count": 243,
      "outputs": [
        {
          "output_type": "execute_result",
          "data": {
            "text/plain": [
              "170    0\n",
              "114    0\n",
              "533    0\n",
              "288    1\n",
              "616    0\n",
              "      ..\n",
              "773    1\n",
              "349    0\n",
              "559    0\n",
              "155    1\n",
              "523    1\n",
              "Name: Survived, Length: 178, dtype: int64"
            ]
          },
          "metadata": {},
          "execution_count": 243
        }
      ]
    },
    {
      "cell_type": "code",
      "metadata": {
        "colab": {
          "base_uri": "https://localhost:8080/"
        },
        "id": "43qZl3JFEHOh",
        "outputId": "f580cf2b-a376-47bb-efc4-9f55a5ab23c1"
      },
      "source": [
        "y_pred[:]"
      ],
      "execution_count": 244,
      "outputs": [
        {
          "output_type": "execute_result",
          "data": {
            "text/plain": [
              "array([0, 0, 0, 1, 0, 0, 1, 1, 0, 0, 1, 1, 0, 0, 1, 0, 0, 0, 0, 0, 0, 0,\n",
              "       1, 1, 0, 1, 0, 0, 0, 0, 1, 1, 0, 1, 0, 0, 0, 0, 1, 0, 1, 0, 0, 0,\n",
              "       0, 0, 1, 0, 1, 1, 0, 1, 1, 0, 1, 0, 1, 1, 0, 0, 0, 0, 0, 0, 1, 0,\n",
              "       0, 0, 0, 1, 1, 0, 0, 0, 0, 1, 1, 1, 0, 1, 1, 0, 0, 1, 0, 0, 0, 0,\n",
              "       0, 0, 0, 0, 1, 0, 0, 0, 0, 0, 0, 1, 0, 0, 1, 0, 1, 1, 1, 0, 0, 0,\n",
              "       0, 0, 1, 0, 0, 0, 1, 0, 0, 0, 0, 1, 0, 0, 0, 0, 0, 1, 1, 0, 1, 0,\n",
              "       1, 0, 1, 0, 1, 0, 1, 0, 0, 0, 1, 0, 0, 1, 0, 1, 0, 0, 1, 1, 0, 0,\n",
              "       0, 1, 1, 0, 0, 1, 0, 0, 0, 0, 0, 0, 1, 0, 0, 0, 1, 0, 0, 1, 0, 0,\n",
              "       1, 1])"
            ]
          },
          "metadata": {},
          "execution_count": 244
        }
      ]
    },
    {
      "cell_type": "markdown",
      "metadata": {
        "id": "6vHMPau1cv4L"
      },
      "source": [
        "#[:] \n",
        "#Sirve para genera un Rango de Valores en el cual se puede especificar el valor."
      ]
    },
    {
      "cell_type": "code",
      "metadata": {
        "id": "oabkN3VKc7gS",
        "colab": {
          "base_uri": "https://localhost:8080/"
        },
        "outputId": "7a29d421-41a9-4f0e-b327-6dbb27d301c8"
      },
      "source": [
        "X_test[0:7]"
      ],
      "execution_count": 245,
      "outputs": [
        {
          "output_type": "execute_result",
          "data": {
            "text/plain": [
              "array([[3, 4.0, 4, 1, 29.125, True],\n",
              "       [3, 21.0, 0, 0, 7.925, True],\n",
              "       [1, 45.0, 0, 0, 26.55, True],\n",
              "       [1, 26.0, 0, 0, 78.85, False],\n",
              "       [2, 26.0, 0, 0, 10.5, True],\n",
              "       [1, 41.0, 0, 0, 26.55, True],\n",
              "       [3, 25.0, 1, 0, 7.925, False]], dtype=object)"
            ]
          },
          "metadata": {},
          "execution_count": 245
        }
      ]
    },
    {
      "cell_type": "code",
      "metadata": {
        "id": "0cfrlvb8dNY9",
        "colab": {
          "base_uri": "https://localhost:8080/"
        },
        "outputId": "718aa35f-e8eb-4c10-dec2-f0e4c847cf6f"
      },
      "source": [
        "y_test[0:7]"
      ],
      "execution_count": 246,
      "outputs": [
        {
          "output_type": "execute_result",
          "data": {
            "text/plain": [
              "170    0\n",
              "114    0\n",
              "533    0\n",
              "288    1\n",
              "616    0\n",
              "708    0\n",
              "725    0\n",
              "Name: Survived, dtype: int64"
            ]
          },
          "metadata": {},
          "execution_count": 246
        }
      ]
    },
    {
      "cell_type": "code",
      "metadata": {
        "id": "pZGgmFItdP1q",
        "colab": {
          "base_uri": "https://localhost:8080/"
        },
        "outputId": "f624586e-e804-4903-d474-503664cef029"
      },
      "source": [
        "y_pred[0:7]"
      ],
      "execution_count": 247,
      "outputs": [
        {
          "output_type": "execute_result",
          "data": {
            "text/plain": [
              "array([0, 0, 0, 1, 0, 0, 1])"
            ]
          },
          "metadata": {},
          "execution_count": 247
        }
      ]
    },
    {
      "cell_type": "markdown",
      "metadata": {
        "id": "ajRq8ubseEcu"
      },
      "source": [
        "#Probabilidad"
      ]
    },
    {
      "cell_type": "code",
      "metadata": {
        "id": "Q1-BYrsEeHxv",
        "colab": {
          "base_uri": "https://localhost:8080/"
        },
        "outputId": "62936e38-f644-4123-db2c-492b819efaa8"
      },
      "source": [
        "model.predict_proba(X_test)[:,0]"
      ],
      "execution_count": 248,
      "outputs": [
        {
          "output_type": "execute_result",
          "data": {
            "text/plain": [
              "array([0.93235552, 0.86224444, 0.58860182, 0.03836743, 0.69132219,\n",
              "       0.54599001, 0.4351215 , 0.36370204, 0.8770083 , 0.79223133,\n",
              "       0.08631754, 0.08408367, 0.81677853, 0.84621805, 0.42660003,\n",
              "       0.6341636 , 0.93457743, 0.54903654, 0.92712731, 0.68106384,\n",
              "       0.89827096, 0.6863383 , 0.0197952 , 0.14721766, 0.80772825,\n",
              "       0.32660435, 0.85650882, 0.91209463, 0.90985071, 0.88161635,\n",
              "       0.48386874, 0.1116773 , 0.7084572 , 0.31743375, 0.94012359,\n",
              "       0.77232017, 0.92270368, 0.89458106, 0.15864022, 0.95094773,\n",
              "       0.29870009, 0.8718704 , 0.97027795, 0.89571012, 0.54400255,\n",
              "       0.57078255, 0.37984913, 0.64902283, 0.09455254, 0.22421746,\n",
              "       0.87326538, 0.03506564, 0.14731011, 0.87929688, 0.04536005,\n",
              "       0.56483868, 0.07739411, 0.09683841, 0.88467329, 0.87717929,\n",
              "       0.83391219, 0.90246864, 0.90984567, 0.80419071, 0.19033923,\n",
              "       0.9541523 , 0.93969162, 0.70691877, 0.97786037, 0.06952715,\n",
              "       0.3936963 , 0.59894711, 0.89458106, 0.96374939, 0.89870741,\n",
              "       0.42661505, 0.12671748, 0.48124224, 0.6990057 , 0.3397254 ,\n",
              "       0.44758831, 0.94427503, 0.69225462, 0.4895809 , 0.88165017,\n",
              "       0.88452564, 0.8818019 , 0.85697243, 0.84048145, 0.51547247,\n",
              "       0.53439291, 0.58860182, 0.11663091, 0.5678156 , 0.70932526,\n",
              "       0.91884232, 0.89455213, 0.87697331, 0.84607544, 0.40666613,\n",
              "       0.86333744, 0.90624637, 0.31720592, 0.86751547, 0.27227144,\n",
              "       0.44864382, 0.17321589, 0.9584025 , 0.84621236, 0.92895594,\n",
              "       0.86226838, 0.86993988, 0.41486339, 0.94788514, 0.84599324,\n",
              "       0.85165191, 0.22984634, 0.89518272, 0.93605151, 0.80611345,\n",
              "       0.91886951, 0.33624781, 0.89038501, 0.87069091, 0.81867267,\n",
              "       0.89452153, 0.61225257, 0.46970829, 0.16403546, 0.87337451,\n",
              "       0.40385544, 0.90244009, 0.19137482, 0.89718917, 0.38362826,\n",
              "       0.91695012, 0.37842944, 0.80583343, 0.04973545, 0.86749129,\n",
              "       0.86706153, 0.53831376, 0.26935723, 0.79666782, 0.86729169,\n",
              "       0.16955014, 0.53829335, 0.07775141, 0.96427324, 0.93802723,\n",
              "       0.32885586, 0.09396812, 0.58087792, 0.86732902, 0.65806589,\n",
              "       0.10550398, 0.30792997, 0.52186669, 0.92010062, 0.03641411,\n",
              "       0.74959298, 0.90110713, 0.91334984, 0.88176353, 0.91048238,\n",
              "       0.5183436 , 0.20346692, 0.80829987, 0.88919343, 0.84984355,\n",
              "       0.29050784, 0.85704976, 0.72606651, 0.18022333, 0.56305278,\n",
              "       0.70823992, 0.26363364, 0.31089345])"
            ]
          },
          "metadata": {},
          "execution_count": 248
        }
      ]
    },
    {
      "cell_type": "code",
      "metadata": {
        "id": "pLawi9nPe0uc",
        "colab": {
          "base_uri": "https://localhost:8080/"
        },
        "outputId": "0c9cf71e-4225-4bdc-a348-357a72d3993a"
      },
      "source": [
        "model.predict_proba(X_test)[0,1]"
      ],
      "execution_count": 249,
      "outputs": [
        {
          "output_type": "execute_result",
          "data": {
            "text/plain": [
              "0.06764447633925483"
            ]
          },
          "metadata": {},
          "execution_count": 249
        }
      ]
    },
    {
      "cell_type": "code",
      "metadata": {
        "id": "z8AUzIz1f6HW",
        "colab": {
          "base_uri": "https://localhost:8080/"
        },
        "outputId": "e9a46795-c759-417c-8d65-9c99b7d5dfe6"
      },
      "source": [
        "y.shape"
      ],
      "execution_count": 250,
      "outputs": [
        {
          "output_type": "execute_result",
          "data": {
            "text/plain": [
              "(887,)"
            ]
          },
          "metadata": {},
          "execution_count": 250
        }
      ]
    },
    {
      "cell_type": "code",
      "metadata": {
        "id": "fQnrvKUgf_6L",
        "colab": {
          "base_uri": "https://localhost:8080/"
        },
        "outputId": "b9efad73-b9aa-486f-8945-0d903af361c6"
      },
      "source": [
        "y.sum() # Sobrevivientes"
      ],
      "execution_count": 251,
      "outputs": [
        {
          "output_type": "execute_result",
          "data": {
            "text/plain": [
              "342"
            ]
          },
          "metadata": {},
          "execution_count": 251
        }
      ]
    },
    {
      "cell_type": "code",
      "metadata": {
        "id": "qp6AbTzEgLIK",
        "colab": {
          "base_uri": "https://localhost:8080/"
        },
        "outputId": "6cd2a629-14e7-4501-964d-3443f69737d2"
      },
      "source": [
        "y.shape - y.sum() #Muertes"
      ],
      "execution_count": 252,
      "outputs": [
        {
          "output_type": "execute_result",
          "data": {
            "text/plain": [
              "array([545])"
            ]
          },
          "metadata": {},
          "execution_count": 252
        }
      ]
    },
    {
      "cell_type": "markdown",
      "metadata": {
        "id": "kkep_SQUg0tE"
      },
      "source": [
        "99.9%  son correos validos\n",
        "\n",
        "0.1 % Son Spam\n",
        "\n",
        "accuracy 99%"
      ]
    },
    {
      "cell_type": "markdown",
      "metadata": {
        "id": "-Of65K60b7iL"
      },
      "source": [
        "#Metricas"
      ]
    },
    {
      "cell_type": "markdown",
      "metadata": {
        "id": "Op8zkXw6d0FL"
      },
      "source": [
        "Accuracy = números de predicción  correctas / total de predicciones."
      ]
    },
    {
      "cell_type": "code",
      "metadata": {
        "id": "AKHP2LkJcFVZ",
        "colab": {
          "base_uri": "https://localhost:8080/"
        },
        "outputId": "b2c820b3-f9c6-4959-afa9-c5858632e39f"
      },
      "source": [
        "y_pred == y_test"
      ],
      "execution_count": 253,
      "outputs": [
        {
          "output_type": "execute_result",
          "data": {
            "text/plain": [
              "170    True\n",
              "114    True\n",
              "533    True\n",
              "288    True\n",
              "616    True\n",
              "       ... \n",
              "773    True\n",
              "349    True\n",
              "559    True\n",
              "155    True\n",
              "523    True\n",
              "Name: Survived, Length: 178, dtype: bool"
            ]
          },
          "metadata": {},
          "execution_count": 253
        }
      ]
    },
    {
      "cell_type": "code",
      "metadata": {
        "colab": {
          "base_uri": "https://localhost:8080/"
        },
        "id": "XfGFAobGepzT",
        "outputId": "64717845-6044-49c0-e638-38b2e7df3e0b"
      },
      "source": [
        "(y_pred == y_test).sum()"
      ],
      "execution_count": 254,
      "outputs": [
        {
          "output_type": "execute_result",
          "data": {
            "text/plain": [
              "141"
            ]
          },
          "metadata": {},
          "execution_count": 254
        }
      ]
    },
    {
      "cell_type": "code",
      "metadata": {
        "colab": {
          "base_uri": "https://localhost:8080/"
        },
        "id": "QAS3wYQDe1GM",
        "outputId": "92ec5c43-60a5-45f3-ee1b-362dcb397677"
      },
      "source": [
        "y_test.shape"
      ],
      "execution_count": 255,
      "outputs": [
        {
          "output_type": "execute_result",
          "data": {
            "text/plain": [
              "(178,)"
            ]
          },
          "metadata": {},
          "execution_count": 255
        }
      ]
    },
    {
      "cell_type": "code",
      "metadata": {
        "colab": {
          "base_uri": "https://localhost:8080/"
        },
        "id": "dr3NaiEZe7x_",
        "outputId": "52944ace-8892-4aba-ecad-a167705bbf6d"
      },
      "source": [
        "accuracy = (y_pred == y_test).sum() / y_test.shape\n",
        "accuracy"
      ],
      "execution_count": 256,
      "outputs": [
        {
          "output_type": "execute_result",
          "data": {
            "text/plain": [
              "array([0.79213483])"
            ]
          },
          "metadata": {},
          "execution_count": 256
        }
      ]
    },
    {
      "cell_type": "markdown",
      "metadata": {
        "id": "PoN9NYYfcFx-"
      },
      "source": [
        "#Matriz de Confusión"
      ]
    },
    {
      "cell_type": "code",
      "metadata": {
        "id": "mIYE0NNhcM0E",
        "colab": {
          "base_uri": "https://localhost:8080/"
        },
        "outputId": "77c8e760-36a4-4e57-b6a0-7b56c9c2bc13"
      },
      "source": [
        "confusion_matrix(y_test, y_pred)"
      ],
      "execution_count": 257,
      "outputs": [
        {
          "output_type": "execute_result",
          "data": {
            "text/plain": [
              "array([[100,  19],\n",
              "       [ 18,  41]])"
            ]
          },
          "metadata": {},
          "execution_count": 257
        }
      ]
    },
    {
      "cell_type": "code",
      "metadata": {
        "colab": {
          "base_uri": "https://localhost:8080/",
          "height": 358
        },
        "id": "ybbP_Enbfq8J",
        "outputId": "dab2c8fe-9974-43cd-c1c0-ab133ad0eedb"
      },
      "source": [
        "plot_confusion_matrix(model,X_test, y_test)"
      ],
      "execution_count": 258,
      "outputs": [
        {
          "output_type": "stream",
          "name": "stderr",
          "text": [
            "/usr/local/lib/python3.7/dist-packages/sklearn/utils/deprecation.py:87: FutureWarning: Function plot_confusion_matrix is deprecated; Function `plot_confusion_matrix` is deprecated in 1.0 and will be removed in 1.2. Use one of the class methods: ConfusionMatrixDisplay.from_predictions or ConfusionMatrixDisplay.from_estimator.\n",
            "  warnings.warn(msg, category=FutureWarning)\n"
          ]
        },
        {
          "output_type": "execute_result",
          "data": {
            "text/plain": [
              "<sklearn.metrics._plot.confusion_matrix.ConfusionMatrixDisplay at 0x7f9565a2dad0>"
            ]
          },
          "metadata": {},
          "execution_count": 258
        },
        {
          "output_type": "display_data",
          "data": {
            "image/png": "[encoded data removed]",
            "text/plain": [
              "<Figure size 432x288 with 2 Axes>"
            ]
          },
          "metadata": {
            "needs_background": "light"
          }
        }
      ]
    },
    {
      "cell_type": "code",
      "metadata": {
        "colab": {
          "base_uri": "https://localhost:8080/",
          "height": 358
        },
        "id": "mAk6OUK0f1df",
        "outputId": "c31c3d0c-f110-4c83-c9e0-29e604a194d7"
      },
      "source": [
        "labels = [\"Not Survived\", \"Suvirved\"]\n",
        "plot_confusion_matrix(model, X_test,y_test,display_labels=labels)"
      ],
      "execution_count": 259,
      "outputs": [
        {
          "output_type": "stream",
          "name": "stderr",
          "text": [
            "/usr/local/lib/python3.7/dist-packages/sklearn/utils/deprecation.py:87: FutureWarning: Function plot_confusion_matrix is deprecated; Function `plot_confusion_matrix` is deprecated in 1.0 and will be removed in 1.2. Use one of the class methods: ConfusionMatrixDisplay.from_predictions or ConfusionMatrixDisplay.from_estimator.\n",
            "  warnings.warn(msg, category=FutureWarning)\n"
          ]
        },
        {
          "output_type": "execute_result",
          "data": {
            "text/plain": [
              "<sklearn.metrics._plot.confusion_matrix.ConfusionMatrixDisplay at 0x7f9565c7d8d0>"
            ]
          },
          "metadata": {},
          "execution_count": 259
        },
        {
          "output_type": "display_data",
          "data": {
            "image/png": "[encoded data removed]",
            "text/plain": [
              "<Figure size 432x288 with 2 Axes>"
            ]
          },
          "metadata": {
            "needs_background": "light"
          }
        }
      ]
    },
    {
      "cell_type": "code",
      "metadata": {
        "colab": {
          "base_uri": "https://localhost:8080/"
        },
        "id": "tVSSKi2BhSG_",
        "outputId": "07d8d238-fac7-4607-90d5-612c00994da6"
      },
      "source": [
        "labels = [\"Not Survived\", \"Suvirved\"]\n",
        "print(classification_report(y_test, y_pred, target_names=labels))"
      ],
      "execution_count": 260,
      "outputs": [
        {
          "output_type": "stream",
          "name": "stdout",
          "text": [
            "              precision    recall  f1-score   support\n",
            "\n",
            "Not Survived       0.85      0.84      0.84       119\n",
            "    Suvirved       0.68      0.69      0.69        59\n",
            "\n",
            "    accuracy                           0.79       178\n",
            "   macro avg       0.77      0.77      0.77       178\n",
            "weighted avg       0.79      0.79      0.79       178\n",
            "\n"
          ]
        }
      ]
    },
    {
      "cell_type": "markdown",
      "metadata": {
        "id": "rEO_GbhSfPp0"
      },
      "source": [
        "#Accuracy de la Confusión Matrix\n",
        "\n",
        "accuracy=suma de Predicciones correctas/total de Predicciones."
      ]
    },
    {
      "cell_type": "code",
      "metadata": {
        "id": "8hclX2P3fXdw",
        "colab": {
          "base_uri": "https://localhost:8080/"
        },
        "outputId": "0b8e4909-d795-4c9a-d3ce-faf4c39d3e5b"
      },
      "source": [
        "accuracy = (95 + 50) / (95 + 50 + 15 + 18)\n",
        "accuracy"
      ],
      "execution_count": 261,
      "outputs": [
        {
          "output_type": "execute_result",
          "data": {
            "text/plain": [
              "0.8146067415730337"
            ]
          },
          "metadata": {},
          "execution_count": 261
        }
      ]
    },
    {
      "cell_type": "markdown",
      "metadata": {
        "id": "r5qhQv2tfYFl"
      },
      "source": [
        "#Precisión\n",
        "\n",
        "**Enfocarse en lo que predecimos**\n",
        "\n",
        "¿Que proporción de identificaciones positivas fue realmene correcta?\n",
        "\n",
        "Precisión = Positivos predichos correctamente / predicciones / Total de Predicciones.\n"
      ]
    },
    {
      "cell_type": "code",
      "metadata": {
        "id": "humM4xE-hmdv",
        "colab": {
          "base_uri": "https://localhost:8080/"
        },
        "outputId": "10bee1e4-5c35-4f33-ae7c-bf8cbfe51c82"
      },
      "source": [
        "precision = 50 / (50 + 15)\n",
        "precision"
      ],
      "execution_count": 262,
      "outputs": [
        {
          "output_type": "execute_result",
          "data": {
            "text/plain": [
              "0.7692307692307693"
            ]
          },
          "metadata": {},
          "execution_count": 262
        }
      ]
    },
    {
      "cell_type": "markdown",
      "metadata": {
        "id": "y_rcuqmBkO3J"
      },
      "source": [
        "#Recall\n",
        "\n",
        "**Tiene que ver con lo que se espera de la Fila**\n",
        "\n",
        "¿Qué Proporcion de Positivos se Identifico Correctamente?\n",
        "\n",
        "recall = True positive/ (True positive + False Negative)\n"
      ]
    },
    {
      "cell_type": "code",
      "metadata": {
        "colab": {
          "base_uri": "https://localhost:8080/"
        },
        "id": "9lsm6G66lMyD",
        "outputId": "cb5757b9-2d42-4162-9694-d940b91d9da2"
      },
      "source": [
        "recall = 50 / (50 + 18)\n",
        "recall"
      ],
      "execution_count": 263,
      "outputs": [
        {
          "output_type": "execute_result",
          "data": {
            "text/plain": [
              "0.7352941176470589"
            ]
          },
          "metadata": {},
          "execution_count": 263
        }
      ]
    },
    {
      "cell_type": "markdown",
      "metadata": {
        "id": "32Ng9EJblkoR"
      },
      "source": [
        "# F1 Score\n",
        "\n",
        "**Es el promedio de precisión y recall**\n",
        "\n",
        "f1_score = 2* ((precisión * recall) / (precisión + recall))"
      ]
    },
    {
      "cell_type": "code",
      "metadata": {
        "colab": {
          "base_uri": "https://localhost:8080/"
        },
        "id": "Z0thKINWmFzi",
        "outputId": "592a508f-75e2-4a1d-c57f-6de9c12104d6"
      },
      "source": [
        "f1 = 2 * ((precision * recall) / (precision + recall))\n",
        "f1"
      ],
      "execution_count": 264,
      "outputs": [
        {
          "output_type": "execute_result",
          "data": {
            "text/plain": [
              "0.7518796992481205"
            ]
          },
          "metadata": {},
          "execution_count": 264
        }
      ]
    },
    {
      "cell_type": "markdown",
      "metadata": {
        "id": "RZ4EhRmgmxq1"
      },
      "source": [
        "#SKLearn Metrics"
      ]
    },
    {
      "cell_type": "code",
      "metadata": {
        "colab": {
          "base_uri": "https://localhost:8080/"
        },
        "id": "_yfBNAdom61I",
        "outputId": "5234d49f-078f-4519-9d0f-2bd21dc31bc4"
      },
      "source": [
        "print(\"Accuracy: {} : {}\".format(accuracy,accuracy_score(y_test,y_pred)))"
      ],
      "execution_count": 265,
      "outputs": [
        {
          "output_type": "stream",
          "name": "stdout",
          "text": [
            "Accuracy: 0.8146067415730337 : 0.7921348314606742\n"
          ]
        }
      ]
    },
    {
      "cell_type": "code",
      "metadata": {
        "colab": {
          "base_uri": "https://localhost:8080/"
        },
        "id": "UtjDeLS5qj9w",
        "outputId": "7c50beab-cb54-4cde-b7ee-b9faefc96a77"
      },
      "source": [
        "print(\"Precision: {} : {}\".format(precision, precision_score(y_test,y_pred)))"
      ],
      "execution_count": 266,
      "outputs": [
        {
          "output_type": "stream",
          "name": "stdout",
          "text": [
            "Precision: 0.7692307692307693 : 0.6833333333333333\n"
          ]
        }
      ]
    },
    {
      "cell_type": "code",
      "metadata": {
        "colab": {
          "base_uri": "https://localhost:8080/"
        },
        "id": "CnSn9NdNsRBO",
        "outputId": "37723058-80dd-4b96-ef3a-8bd8686d46eb"
      },
      "source": [
        "print(\"recall: {} : {}\".format(recall, recall_score(y_test,y_pred)))"
      ],
      "execution_count": 267,
      "outputs": [
        {
          "output_type": "stream",
          "name": "stdout",
          "text": [
            "recall: 0.7352941176470589 : 0.6949152542372882\n"
          ]
        }
      ]
    },
    {
      "cell_type": "code",
      "metadata": {
        "colab": {
          "base_uri": "https://localhost:8080/"
        },
        "id": "8tjlH7FAs9R9",
        "outputId": "711b15b0-8557-49f5-a1b6-c073d52aae40"
      },
      "source": [
        "print(\"F1 Score: {} : {}\".format(f1, f1_score(y_test,y_pred)))"
      ],
      "execution_count": 268,
      "outputs": [
        {
          "output_type": "stream",
          "name": "stdout",
          "text": [
            "F1 Score: 0.7518796992481205 : 0.6890756302521008\n"
          ]
        }
      ]
    },
    {
      "cell_type": "code",
      "metadata": {
        "colab": {
          "base_uri": "https://localhost:8080/"
        },
        "id": "mj7iro6jtrsl",
        "outputId": "d134d258-e1fb-49bf-8bcc-f928611a4abf"
      },
      "source": [
        "print(classification_report(y_test,y_pred))"
      ],
      "execution_count": 269,
      "outputs": [
        {
          "output_type": "stream",
          "name": "stdout",
          "text": [
            "              precision    recall  f1-score   support\n",
            "\n",
            "           0       0.85      0.84      0.84       119\n",
            "           1       0.68      0.69      0.69        59\n",
            "\n",
            "    accuracy                           0.79       178\n",
            "   macro avg       0.77      0.77      0.77       178\n",
            "weighted avg       0.79      0.79      0.79       178\n",
            "\n"
          ]
        }
      ]
    },
    {
      "cell_type": "markdown",
      "metadata": {
        "id": "JjBQf_19uVtc"
      },
      "source": [
        "# Cambiar el umbral (Thershold)"
      ]
    },
    {
      "cell_type": "code",
      "metadata": {
        "colab": {
          "base_uri": "https://localhost:8080/"
        },
        "id": "FLIGq1G-vC0g",
        "outputId": "9184919a-81a3-487d-8d9e-690cf9b6f06a"
      },
      "source": [
        "model.predict_proba(X_test)[:,1]"
      ],
      "execution_count": 275,
      "outputs": [
        {
          "output_type": "execute_result",
          "data": {
            "text/plain": [
              "array([0.06764448, 0.13775556, 0.41139818, 0.96163257, 0.30867781,\n",
              "       0.45400999, 0.5648785 , 0.63629796, 0.1229917 , 0.20776867,\n",
              "       0.91368246, 0.91591633, 0.18322147, 0.15378195, 0.57339997,\n",
              "       0.3658364 , 0.06542257, 0.45096346, 0.07287269, 0.31893616,\n",
              "       0.10172904, 0.3136617 , 0.9802048 , 0.85278234, 0.19227175,\n",
              "       0.67339565, 0.14349118, 0.08790537, 0.09014929, 0.11838365,\n",
              "       0.51613126, 0.8883227 , 0.2915428 , 0.68256625, 0.05987641,\n",
              "       0.22767983, 0.07729632, 0.10541894, 0.84135978, 0.04905227,\n",
              "       0.70129991, 0.1281296 , 0.02972205, 0.10428988, 0.45599745,\n",
              "       0.42921745, 0.62015087, 0.35097717, 0.90544746, 0.77578254,\n",
              "       0.12673462, 0.96493436, 0.85268989, 0.12070312, 0.95463995,\n",
              "       0.43516132, 0.92260589, 0.90316159, 0.11532671, 0.12282071,\n",
              "       0.16608781, 0.09753136, 0.09015433, 0.19580929, 0.80966077,\n",
              "       0.0458477 , 0.06030838, 0.29308123, 0.02213963, 0.93047285,\n",
              "       0.6063037 , 0.40105289, 0.10541894, 0.03625061, 0.10129259,\n",
              "       0.57338495, 0.87328252, 0.51875776, 0.3009943 , 0.6602746 ,\n",
              "       0.55241169, 0.05572497, 0.30774538, 0.5104191 , 0.11834983,\n",
              "       0.11547436, 0.1181981 , 0.14302757, 0.15951855, 0.48452753,\n",
              "       0.46560709, 0.41139818, 0.88336909, 0.4321844 , 0.29067474,\n",
              "       0.08115768, 0.10544787, 0.12302669, 0.15392456, 0.59333387,\n",
              "       0.13666256, 0.09375363, 0.68279408, 0.13248453, 0.72772856,\n",
              "       0.55135618, 0.82678411, 0.0415975 , 0.15378764, 0.07104406,\n",
              "       0.13773162, 0.13006012, 0.58513661, 0.05211486, 0.15400676,\n",
              "       0.14834809, 0.77015366, 0.10481728, 0.06394849, 0.19388655,\n",
              "       0.08113049, 0.66375219, 0.10961499, 0.12930909, 0.18132733,\n",
              "       0.10547847, 0.38774743, 0.53029171, 0.83596454, 0.12662549,\n",
              "       0.59614456, 0.09755991, 0.80862518, 0.10281083, 0.61637174,\n",
              "       0.08304988, 0.62157056, 0.19416657, 0.95026455, 0.13250871,\n",
              "       0.13293847, 0.46168624, 0.73064277, 0.20333218, 0.13270831,\n",
              "       0.83044986, 0.46170665, 0.92224859, 0.03572676, 0.06197277,\n",
              "       0.67114414, 0.90603188, 0.41912208, 0.13267098, 0.34193411,\n",
              "       0.89449602, 0.69207003, 0.47813331, 0.07989938, 0.96358589,\n",
              "       0.25040702, 0.09889287, 0.08665016, 0.11823647, 0.08951762,\n",
              "       0.4816564 , 0.79653308, 0.19170013, 0.11080657, 0.15015645,\n",
              "       0.70949216, 0.14295024, 0.27393349, 0.81977667, 0.43694722,\n",
              "       0.29176008, 0.73636636, 0.68910655])"
            ]
          },
          "metadata": {},
          "execution_count": 275
        }
      ]
    },
    {
      "cell_type": "code",
      "metadata": {
        "colab": {
          "base_uri": "https://localhost:8080/"
        },
        "id": "QltAbQJouf42",
        "outputId": "70118e14-372b-4301-aeb0-035963dbf40d"
      },
      "source": [
        "model.predict_proba(X_test)[:,1] > 0.75"
      ],
      "execution_count": 273,
      "outputs": [
        {
          "output_type": "execute_result",
          "data": {
            "text/plain": [
              "array([False, False, False,  True, False, False, False, False, False,\n",
              "       False,  True,  True, False, False, False, False, False, False,\n",
              "       False, False, False, False,  True,  True, False, False, False,\n",
              "       False, False, False, False,  True, False, False, False, False,\n",
              "       False, False,  True, False, False, False, False, False, False,\n",
              "       False, False, False,  True,  True, False,  True,  True, False,\n",
              "        True, False,  True,  True, False, False, False, False, False,\n",
              "       False,  True, False, False, False, False,  True, False, False,\n",
              "       False, False, False, False,  True, False, False, False, False,\n",
              "       False, False, False, False, False, False, False, False, False,\n",
              "       False, False,  True, False, False, False, False, False, False,\n",
              "       False, False, False, False, False, False, False,  True, False,\n",
              "       False, False, False, False, False, False, False, False,  True,\n",
              "       False, False, False, False, False, False, False, False, False,\n",
              "       False, False,  True, False, False, False,  True, False, False,\n",
              "       False, False, False,  True, False, False, False, False, False,\n",
              "       False,  True, False,  True, False, False, False,  True, False,\n",
              "       False, False,  True, False, False, False,  True, False, False,\n",
              "       False, False, False, False,  True, False, False, False, False,\n",
              "       False, False,  True, False, False, False, False])"
            ]
          },
          "metadata": {},
          "execution_count": 273
        }
      ]
    },
    {
      "cell_type": "markdown",
      "metadata": {
        "id": "hsSSQRffvqi0"
      },
      "source": [
        "#Cambio a\n",
        "\n",
        "**y_pred**"
      ]
    },
    {
      "cell_type": "code",
      "metadata": {
        "id": "-oLJGbUIv7aG"
      },
      "source": [
        "y_pred = model.predict_proba(X_test)[:,1] > 0.75"
      ],
      "execution_count": 281,
      "outputs": []
    },
    {
      "cell_type": "code",
      "metadata": {
        "colab": {
          "base_uri": "https://localhost:8080/"
        },
        "id": "aq1MU-nKwZNQ",
        "outputId": "10307742-581a-4bea-c5a1-64fc52a642c5"
      },
      "source": [
        "print(classification_report(y_test,y_pred))"
      ],
      "execution_count": 282,
      "outputs": [
        {
          "output_type": "stream",
          "name": "stdout",
          "text": [
            "              precision    recall  f1-score   support\n",
            "\n",
            "           0       0.78      0.97      0.87       119\n",
            "           1       0.90      0.46      0.61        59\n",
            "\n",
            "    accuracy                           0.80       178\n",
            "   macro avg       0.84      0.72      0.74       178\n",
            "weighted avg       0.82      0.80      0.78       178\n",
            "\n"
          ]
        }
      ]
    },
    {
      "cell_type": "markdown",
      "metadata": {
        "id": "Mike_80DxQ9W"
      },
      "source": [
        "#Conclusión\n",
        "\n",
        "Considero que este tipo de actividad fue muy interesante ya que las predicciones son muy importantes dentro de la mineria de datos, el uso de las metricas nos ayudan a entender mejor los datos ya que si existe alguna anomalia podemos encontrarla mediante los metodos que se realizan, ademas de que las grafias nos ayudan a comprender como esta realmente los datos. Creo que el saber analizar este tipo de datos nos ayuda a verificar que esta mal dentro de un dataframe. Yo creo que tambien es muy bueno comenzar a analizar este tipo de ejercicios ya que no siempre los datos vienen en orden, si no que en algunos casos hay que trabajar con ellos y darles un buen analisis, para su uso, en este caso los datos venian amigables, pero me imagino que existen otros csv, un poco complejos que se podrian resolver con diferentes técnicas."
      ]
    }
  ]
}