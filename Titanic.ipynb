{
  "nbformat": 4,
  "nbformat_minor": 0,
  "metadata": {
    "colab": {
      "name": "Titanic.ipynb",
      "provenance": [],
      "authorship_tag": "ABX9TyMznZZdeqjlS2gbZpJRvDBm",
      "include_colab_link": true
    },
    "kernelspec": {
      "name": "python3",
      "display_name": "Python 3"
    },
    "language_info": {
      "name": "python"
    }
  },
  "cells": [
    {
      "cell_type": "markdown",
      "metadata": {
        "id": "view-in-github",
        "colab_type": "text"
      },
      "source": [
        "<a href=\"https://colab.research.google.com/github/Faty177u7/Titanic/blob/main/Titanic.ipynb\" target=\"_parent\"><img src=\"https://colab.research.google.com/assets/colab-badge.svg\" alt=\"Open In Colab\"/></a>"
      ]
    },
    {
      "cell_type": "markdown",
      "metadata": {
        "id": "-KbcV4Juyska"
      },
      "source": [
        "# Extracción de Conocimientos.\n",
        "\n",
        "**Profesor:** Salvador HM \n",
        "\n",
        "**Nombre:** Fatima Yatcin Perez Cruz.\n",
        "\n",
        "**Grupo:** IDGS91\n"
      ]
    },
    {
      "cell_type": "markdown",
      "metadata": {
        "id": "rmUuWxTFR1O4"
      },
      "source": [
        "#Importar Dataset"
      ]
    },
    {
      "cell_type": "code",
      "metadata": {
        "id": "4YtSqBBURzu4"
      },
      "source": [
        "import numpy as np\n",
        "import pandas as pd\n",
        "import matplotlib.pyplot as plt\n",
        "\n",
        "from sklearn.linear_model import LogisticRegression\n",
        "\n",
        "from sklearn.model_selection import  train_test_split\n",
        "\n",
        "from sklearn.metrics import accuracy_score\n",
        "from sklearn.metrics import precision_score\n",
        "from sklearn.metrics import recall_score\n",
        "from sklearn.metrics import f1_score\n",
        "from sklearn.metrics import classification_report\n",
        "from sklearn.metrics import confusion_matrix\n",
        "from sklearn.metrics import plot_confusion_matrix\n",
        "\n",
        "pd.options.display.max_columns = 9 #Configuración para mostrar columnas deseadas.\n",
        "\n"
      ],
      "execution_count": 103,
      "outputs": []
    },
    {
      "cell_type": "markdown",
      "metadata": {
        "id": "1v_EynmbRx4U"
      },
      "source": [
        "#Importar el Dataset"
      ]
    },
    {
      "cell_type": "code",
      "metadata": {
        "id": "9R4OXfPNRtEY"
      },
      "source": [
        "df = pd.read_csv(\"titanic.csv\")"
      ],
      "execution_count": 104,
      "outputs": []
    },
    {
      "cell_type": "markdown",
      "metadata": {
        "id": "JExmnfnJUV0P"
      },
      "source": [
        "Analizar el dataframe"
      ]
    },
    {
      "cell_type": "code",
      "metadata": {
        "colab": {
          "base_uri": "https://localhost:8080/"
        },
        "id": "hyOZUYBZUZvF",
        "outputId": "799ae71d-8cbf-4669-e693-275a1e751be6"
      },
      "source": [
        "df.info()"
      ],
      "execution_count": 105,
      "outputs": [
        {
          "output_type": "stream",
          "name": "stdout",
          "text": [
            "<class 'pandas.core.frame.DataFrame'>\n",
            "RangeIndex: 887 entries, 0 to 886\n",
            "Data columns (total 7 columns):\n",
            " #   Column            Non-Null Count  Dtype  \n",
            "---  ------            --------------  -----  \n",
            " 0   Survived          887 non-null    int64  \n",
            " 1   Pclass            887 non-null    int64  \n",
            " 2   Sex               887 non-null    object \n",
            " 3   Age               887 non-null    float64\n",
            " 4   Siblings/Spouses  887 non-null    int64  \n",
            " 5   Parents/Children  887 non-null    int64  \n",
            " 6   Fare              887 non-null    float64\n",
            "dtypes: float64(2), int64(4), object(1)\n",
            "memory usage: 48.6+ KB\n"
          ]
        }
      ]
    },
    {
      "cell_type": "code",
      "metadata": {
        "colab": {
          "base_uri": "https://localhost:8080/",
          "height": 206
        },
        "id": "CqGPbiAzUnNb",
        "outputId": "e9044225-8d01-4367-e8a0-9be40905cd60"
      },
      "source": [
        "df.head()"
      ],
      "execution_count": 106,
      "outputs": [
        {
          "output_type": "execute_result",
          "data": {
            "text/html": [
              "<div>\n",
              "<style scoped>\n",
              "    .dataframe tbody tr th:only-of-type {\n",
              "        vertical-align: middle;\n",
              "    }\n",
              "\n",
              "    .dataframe tbody tr th {\n",
              "        vertical-align: top;\n",
              "    }\n",
              "\n",
              "    .dataframe thead th {\n",
              "        text-align: right;\n",
              "    }\n",
              "</style>\n",
              "<table border=\"1\" class=\"dataframe\">\n",
              "  <thead>\n",
              "    <tr style=\"text-align: right;\">\n",
              "      <th></th>\n",
              "      <th>Survived</th>\n",
              "      <th>Pclass</th>\n",
              "      <th>Sex</th>\n",
              "      <th>Age</th>\n",
              "      <th>Siblings/Spouses</th>\n",
              "      <th>Parents/Children</th>\n",
              "      <th>Fare</th>\n",
              "    </tr>\n",
              "  </thead>\n",
              "  <tbody>\n",
              "    <tr>\n",
              "      <th>0</th>\n",
              "      <td>0</td>\n",
              "      <td>3</td>\n",
              "      <td>male</td>\n",
              "      <td>22.0</td>\n",
              "      <td>1</td>\n",
              "      <td>0</td>\n",
              "      <td>7.2500</td>\n",
              "    </tr>\n",
              "    <tr>\n",
              "      <th>1</th>\n",
              "      <td>1</td>\n",
              "      <td>1</td>\n",
              "      <td>female</td>\n",
              "      <td>38.0</td>\n",
              "      <td>1</td>\n",
              "      <td>0</td>\n",
              "      <td>71.2833</td>\n",
              "    </tr>\n",
              "    <tr>\n",
              "      <th>2</th>\n",
              "      <td>1</td>\n",
              "      <td>3</td>\n",
              "      <td>female</td>\n",
              "      <td>26.0</td>\n",
              "      <td>0</td>\n",
              "      <td>0</td>\n",
              "      <td>7.9250</td>\n",
              "    </tr>\n",
              "    <tr>\n",
              "      <th>3</th>\n",
              "      <td>1</td>\n",
              "      <td>1</td>\n",
              "      <td>female</td>\n",
              "      <td>35.0</td>\n",
              "      <td>1</td>\n",
              "      <td>0</td>\n",
              "      <td>53.1000</td>\n",
              "    </tr>\n",
              "    <tr>\n",
              "      <th>4</th>\n",
              "      <td>0</td>\n",
              "      <td>3</td>\n",
              "      <td>male</td>\n",
              "      <td>35.0</td>\n",
              "      <td>0</td>\n",
              "      <td>0</td>\n",
              "      <td>8.0500</td>\n",
              "    </tr>\n",
              "  </tbody>\n",
              "</table>\n",
              "</div>"
            ],
            "text/plain": [
              "   Survived  Pclass     Sex   Age  Siblings/Spouses  Parents/Children     Fare\n",
              "0         0       3    male  22.0                 1                 0   7.2500\n",
              "1         1       1  female  38.0                 1                 0  71.2833\n",
              "2         1       3  female  26.0                 0                 0   7.9250\n",
              "3         1       1  female  35.0                 1                 0  53.1000\n",
              "4         0       3    male  35.0                 0                 0   8.0500"
            ]
          },
          "metadata": {},
          "execution_count": 106
        }
      ]
    },
    {
      "cell_type": "code",
      "metadata": {
        "colab": {
          "base_uri": "https://localhost:8080/",
          "height": 300
        },
        "id": "ZwxQ3GkLU3_c",
        "outputId": "497e757d-9095-4d5d-c625-096392fc174c"
      },
      "source": [
        "df.describe()"
      ],
      "execution_count": 107,
      "outputs": [
        {
          "output_type": "execute_result",
          "data": {
            "text/html": [
              "<div>\n",
              "<style scoped>\n",
              "    .dataframe tbody tr th:only-of-type {\n",
              "        vertical-align: middle;\n",
              "    }\n",
              "\n",
              "    .dataframe tbody tr th {\n",
              "        vertical-align: top;\n",
              "    }\n",
              "\n",
              "    .dataframe thead th {\n",
              "        text-align: right;\n",
              "    }\n",
              "</style>\n",
              "<table border=\"1\" class=\"dataframe\">\n",
              "  <thead>\n",
              "    <tr style=\"text-align: right;\">\n",
              "      <th></th>\n",
              "      <th>Survived</th>\n",
              "      <th>Pclass</th>\n",
              "      <th>Age</th>\n",
              "      <th>Siblings/Spouses</th>\n",
              "      <th>Parents/Children</th>\n",
              "      <th>Fare</th>\n",
              "    </tr>\n",
              "  </thead>\n",
              "  <tbody>\n",
              "    <tr>\n",
              "      <th>count</th>\n",
              "      <td>887.000000</td>\n",
              "      <td>887.000000</td>\n",
              "      <td>887.000000</td>\n",
              "      <td>887.000000</td>\n",
              "      <td>887.000000</td>\n",
              "      <td>887.00000</td>\n",
              "    </tr>\n",
              "    <tr>\n",
              "      <th>mean</th>\n",
              "      <td>0.385569</td>\n",
              "      <td>2.305524</td>\n",
              "      <td>29.471443</td>\n",
              "      <td>0.525366</td>\n",
              "      <td>0.383315</td>\n",
              "      <td>32.30542</td>\n",
              "    </tr>\n",
              "    <tr>\n",
              "      <th>std</th>\n",
              "      <td>0.487004</td>\n",
              "      <td>0.836662</td>\n",
              "      <td>14.121908</td>\n",
              "      <td>1.104669</td>\n",
              "      <td>0.807466</td>\n",
              "      <td>49.78204</td>\n",
              "    </tr>\n",
              "    <tr>\n",
              "      <th>min</th>\n",
              "      <td>0.000000</td>\n",
              "      <td>1.000000</td>\n",
              "      <td>0.420000</td>\n",
              "      <td>0.000000</td>\n",
              "      <td>0.000000</td>\n",
              "      <td>0.00000</td>\n",
              "    </tr>\n",
              "    <tr>\n",
              "      <th>25%</th>\n",
              "      <td>0.000000</td>\n",
              "      <td>2.000000</td>\n",
              "      <td>20.250000</td>\n",
              "      <td>0.000000</td>\n",
              "      <td>0.000000</td>\n",
              "      <td>7.92500</td>\n",
              "    </tr>\n",
              "    <tr>\n",
              "      <th>50%</th>\n",
              "      <td>0.000000</td>\n",
              "      <td>3.000000</td>\n",
              "      <td>28.000000</td>\n",
              "      <td>0.000000</td>\n",
              "      <td>0.000000</td>\n",
              "      <td>14.45420</td>\n",
              "    </tr>\n",
              "    <tr>\n",
              "      <th>75%</th>\n",
              "      <td>1.000000</td>\n",
              "      <td>3.000000</td>\n",
              "      <td>38.000000</td>\n",
              "      <td>1.000000</td>\n",
              "      <td>0.000000</td>\n",
              "      <td>31.13750</td>\n",
              "    </tr>\n",
              "    <tr>\n",
              "      <th>max</th>\n",
              "      <td>1.000000</td>\n",
              "      <td>3.000000</td>\n",
              "      <td>80.000000</td>\n",
              "      <td>8.000000</td>\n",
              "      <td>6.000000</td>\n",
              "      <td>512.32920</td>\n",
              "    </tr>\n",
              "  </tbody>\n",
              "</table>\n",
              "</div>"
            ],
            "text/plain": [
              "         Survived      Pclass         Age  Siblings/Spouses  Parents/Children  \\\n",
              "count  887.000000  887.000000  887.000000        887.000000        887.000000   \n",
              "mean     0.385569    2.305524   29.471443          0.525366          0.383315   \n",
              "std      0.487004    0.836662   14.121908          1.104669          0.807466   \n",
              "min      0.000000    1.000000    0.420000          0.000000          0.000000   \n",
              "25%      0.000000    2.000000   20.250000          0.000000          0.000000   \n",
              "50%      0.000000    3.000000   28.000000          0.000000          0.000000   \n",
              "75%      1.000000    3.000000   38.000000          1.000000          0.000000   \n",
              "max      1.000000    3.000000   80.000000          8.000000          6.000000   \n",
              "\n",
              "            Fare  \n",
              "count  887.00000  \n",
              "mean    32.30542  \n",
              "std     49.78204  \n",
              "min      0.00000  \n",
              "25%      7.92500  \n",
              "50%     14.45420  \n",
              "75%     31.13750  \n",
              "max    512.32920  "
            ]
          },
          "metadata": {},
          "execution_count": 107
        }
      ]
    },
    {
      "cell_type": "markdown",
      "metadata": {
        "id": "H_2tmkccVXOX"
      },
      "source": [
        "#Crear Columna (Feature ingenering )\n",
        "\n",
        "Procesamiento de las columas y caracteristicas para calcular y imputar valores."
      ]
    },
    {
      "cell_type": "code",
      "metadata": {
        "id": "cgFz26QRVcBY"
      },
      "source": [
        "df['Male'] = df ['Sex'] == 'male'"
      ],
      "execution_count": 108,
      "outputs": []
    },
    {
      "cell_type": "code",
      "metadata": {
        "colab": {
          "base_uri": "https://localhost:8080/",
          "height": 206
        },
        "id": "RrV5uTYTXeuN",
        "outputId": "49a9082a-ea5c-43e5-e5c0-a744a0125e4b"
      },
      "source": [
        "df.head()"
      ],
      "execution_count": 109,
      "outputs": [
        {
          "output_type": "execute_result",
          "data": {
            "text/html": [
              "<div>\n",
              "<style scoped>\n",
              "    .dataframe tbody tr th:only-of-type {\n",
              "        vertical-align: middle;\n",
              "    }\n",
              "\n",
              "    .dataframe tbody tr th {\n",
              "        vertical-align: top;\n",
              "    }\n",
              "\n",
              "    .dataframe thead th {\n",
              "        text-align: right;\n",
              "    }\n",
              "</style>\n",
              "<table border=\"1\" class=\"dataframe\">\n",
              "  <thead>\n",
              "    <tr style=\"text-align: right;\">\n",
              "      <th></th>\n",
              "      <th>Survived</th>\n",
              "      <th>Pclass</th>\n",
              "      <th>Sex</th>\n",
              "      <th>Age</th>\n",
              "      <th>Siblings/Spouses</th>\n",
              "      <th>Parents/Children</th>\n",
              "      <th>Fare</th>\n",
              "      <th>Male</th>\n",
              "    </tr>\n",
              "  </thead>\n",
              "  <tbody>\n",
              "    <tr>\n",
              "      <th>0</th>\n",
              "      <td>0</td>\n",
              "      <td>3</td>\n",
              "      <td>male</td>\n",
              "      <td>22.0</td>\n",
              "      <td>1</td>\n",
              "      <td>0</td>\n",
              "      <td>7.2500</td>\n",
              "      <td>True</td>\n",
              "    </tr>\n",
              "    <tr>\n",
              "      <th>1</th>\n",
              "      <td>1</td>\n",
              "      <td>1</td>\n",
              "      <td>female</td>\n",
              "      <td>38.0</td>\n",
              "      <td>1</td>\n",
              "      <td>0</td>\n",
              "      <td>71.2833</td>\n",
              "      <td>False</td>\n",
              "    </tr>\n",
              "    <tr>\n",
              "      <th>2</th>\n",
              "      <td>1</td>\n",
              "      <td>3</td>\n",
              "      <td>female</td>\n",
              "      <td>26.0</td>\n",
              "      <td>0</td>\n",
              "      <td>0</td>\n",
              "      <td>7.9250</td>\n",
              "      <td>False</td>\n",
              "    </tr>\n",
              "    <tr>\n",
              "      <th>3</th>\n",
              "      <td>1</td>\n",
              "      <td>1</td>\n",
              "      <td>female</td>\n",
              "      <td>35.0</td>\n",
              "      <td>1</td>\n",
              "      <td>0</td>\n",
              "      <td>53.1000</td>\n",
              "      <td>False</td>\n",
              "    </tr>\n",
              "    <tr>\n",
              "      <th>4</th>\n",
              "      <td>0</td>\n",
              "      <td>3</td>\n",
              "      <td>male</td>\n",
              "      <td>35.0</td>\n",
              "      <td>0</td>\n",
              "      <td>0</td>\n",
              "      <td>8.0500</td>\n",
              "      <td>True</td>\n",
              "    </tr>\n",
              "  </tbody>\n",
              "</table>\n",
              "</div>"
            ],
            "text/plain": [
              "   Survived  Pclass     Sex   Age  Siblings/Spouses  Parents/Children  \\\n",
              "0         0       3    male  22.0                 1                 0   \n",
              "1         1       1  female  38.0                 1                 0   \n",
              "2         1       3  female  26.0                 0                 0   \n",
              "3         1       1  female  35.0                 1                 0   \n",
              "4         0       3    male  35.0                 0                 0   \n",
              "\n",
              "      Fare   Male  \n",
              "0   7.2500   True  \n",
              "1  71.2833  False  \n",
              "2   7.9250  False  \n",
              "3  53.1000  False  \n",
              "4   8.0500   True  "
            ]
          },
          "metadata": {},
          "execution_count": 109
        }
      ]
    },
    {
      "cell_type": "code",
      "metadata": {
        "colab": {
          "base_uri": "https://localhost:8080/"
        },
        "id": "HHVgVI07YFd7",
        "outputId": "025e4fed-0876-47c6-e015-ba910ab10b0a"
      },
      "source": [
        "df['Male'].sum()"
      ],
      "execution_count": 110,
      "outputs": [
        {
          "output_type": "execute_result",
          "data": {
            "text/plain": [
              "573"
            ]
          },
          "metadata": {},
          "execution_count": 110
        }
      ]
    },
    {
      "cell_type": "markdown",
      "metadata": {
        "id": "Fsw1reQUZBj2"
      },
      "source": [
        "#Scatter Plot\n",
        "\n"
      ]
    },
    {
      "cell_type": "code",
      "metadata": {
        "colab": {
          "base_uri": "https://localhost:8080/",
          "height": 352
        },
        "id": "XHg_xKapZH78",
        "outputId": "598023f9-c684-4145-fd28-a2b35d7c16bd"
      },
      "source": [
        "plt.figure(figsize=(8,5))\n",
        "plt.scatter(df['Fare'], df['Age'],c=df['Male'])\n",
        "plt.xlabel(\"Fare\")\n",
        "plt.ylabel(\"Age\")"
      ],
      "execution_count": 111,
      "outputs": [
        {
          "output_type": "execute_result",
          "data": {
            "text/plain": [
              "Text(0, 0.5, 'Age')"
            ]
          },
          "metadata": {},
          "execution_count": 111
        },
        {
          "output_type": "display_data",
          "data": {
            "image/png": "[encoded data removed]",
            "text/plain": [
              "<Figure size 576x360 with 1 Axes>"
            ]
          },
          "metadata": {
            "needs_background": "light"
          }
        }
      ]
    },
    {
      "cell_type": "markdown",
      "metadata": {
        "id": "iZNizes4awPQ"
      },
      "source": [
        "#Separar Caractersticas y Objetivo"
      ]
    },
    {
      "cell_type": "markdown",
      "metadata": {
        "id": "_ivoonrIE2zg"
      },
      "source": [
        "#Con Values"
      ]
    },
    {
      "cell_type": "code",
      "metadata": {
        "id": "U3XeNdEHavtE"
      },
      "source": [
        "X = df[['Pclass', 'Age','Siblings/Spouses', 'Parents/Children', 'Fare', 'Male']].values\n",
        "y = df['Survived'].values"
      ],
      "execution_count": 112,
      "outputs": []
    },
    {
      "cell_type": "code",
      "metadata": {
        "colab": {
          "base_uri": "https://localhost:8080/"
        },
        "id": "6kE9DF24bfGj",
        "outputId": "5efcb96c-7c48-4e60-f9c4-354ed56cf06d"
      },
      "source": [
        "y"
      ],
      "execution_count": 113,
      "outputs": [
        {
          "output_type": "execute_result",
          "data": {
            "text/plain": [
              "array([0, 1, 1, 1, 0, 0, 0, 0, 1, 1, 1, 1, 0, 0, 0, 1, 0, 1, 0, 1, 0, 1,\n",
              "       1, 1, 0, 1, 0, 0, 1, 0, 0, 1, 1, 0, 0, 0, 1, 0, 0, 1, 0, 0, 1, 1,\n",
              "       0, 0, 1, 0, 0, 0, 0, 1, 1, 0, 1, 1, 0, 1, 0, 0, 1, 0, 0, 0, 1, 1,\n",
              "       0, 1, 0, 0, 0, 0, 0, 1, 0, 0, 0, 1, 1, 0, 1, 1, 0, 1, 1, 0, 0, 1,\n",
              "       0, 0, 0, 0, 0, 0, 0, 0, 1, 1, 0, 0, 0, 0, 0, 0, 0, 1, 1, 0, 1, 0,\n",
              "       0, 0, 0, 0, 0, 0, 0, 0, 0, 0, 0, 0, 1, 0, 1, 0, 1, 1, 0, 0, 0, 0,\n",
              "       1, 0, 0, 1, 0, 0, 0, 0, 1, 1, 0, 0, 0, 1, 0, 0, 0, 0, 1, 0, 0, 0,\n",
              "       0, 1, 0, 0, 0, 0, 1, 0, 0, 0, 1, 1, 0, 0, 0, 0, 0, 1, 0, 0, 0, 0,\n",
              "       0, 0, 0, 0, 0, 0, 1, 1, 0, 1, 1, 0, 0, 1, 0, 1, 1, 1, 1, 0, 0, 1,\n",
              "       0, 0, 0, 0, 0, 1, 0, 0, 1, 1, 1, 0, 1, 0, 0, 0, 1, 1, 0, 1, 0, 1,\n",
              "       0, 0, 0, 1, 0, 1, 0, 0, 0, 1, 0, 0, 1, 0, 0, 0, 1, 0, 0, 0, 1, 0,\n",
              "       0, 0, 0, 0, 1, 1, 0, 0, 0, 0, 0, 0, 1, 1, 1, 1, 1, 1, 0, 0, 0, 0,\n",
              "       0, 1, 1, 1, 0, 1, 1, 0, 1, 1, 0, 0, 0, 1, 0, 0, 0, 1, 0, 0, 1, 0,\n",
              "       1, 1, 1, 1, 0, 0, 0, 0, 0, 0, 1, 1, 1, 1, 0, 1, 0, 1, 1, 1, 0, 1,\n",
              "       1, 1, 0, 0, 0, 1, 1, 0, 1, 1, 0, 0, 1, 1, 0, 1, 0, 1, 1, 1, 1, 0,\n",
              "       0, 0, 1, 0, 0, 1, 1, 0, 1, 1, 0, 0, 0, 1, 1, 1, 1, 0, 0, 0, 0, 0,\n",
              "       0, 0, 1, 0, 1, 1, 0, 0, 0, 0, 0, 0, 1, 1, 1, 1, 1, 0, 0, 0, 0, 1,\n",
              "       1, 0, 0, 0, 1, 1, 0, 1, 0, 0, 0, 1, 0, 1, 1, 1, 0, 1, 1, 0, 0, 0,\n",
              "       0, 1, 1, 0, 0, 0, 0, 0, 0, 1, 0, 0, 0, 0, 1, 0, 1, 0, 1, 1, 0, 0,\n",
              "       0, 0, 0, 0, 0, 1, 1, 0, 1, 1, 1, 1, 0, 0, 1, 0, 1, 0, 0, 1, 0, 0,\n",
              "       1, 1, 1, 1, 1, 1, 1, 0, 0, 0, 1, 0, 1, 0, 1, 1, 0, 1, 0, 0, 0, 0,\n",
              "       0, 0, 0, 0, 1, 0, 0, 1, 1, 0, 0, 0, 0, 0, 1, 0, 0, 0, 1, 1, 0, 1,\n",
              "       0, 0, 1, 0, 0, 0, 0, 0, 0, 1, 0, 0, 0, 0, 0, 0, 0, 1, 0, 1, 1, 0,\n",
              "       1, 1, 0, 1, 1, 0, 0, 1, 0, 1, 0, 1, 0, 0, 1, 0, 0, 1, 0, 0, 0, 1,\n",
              "       0, 0, 1, 0, 1, 0, 1, 0, 1, 1, 0, 0, 1, 0, 0, 1, 1, 0, 1, 1, 0, 0,\n",
              "       1, 1, 0, 1, 0, 1, 1, 0, 0, 0, 0, 0, 0, 0, 0, 0, 1, 1, 1, 1, 1, 0,\n",
              "       0, 1, 1, 0, 1, 1, 1, 0, 0, 0, 1, 0, 1, 0, 0, 0, 1, 0, 0, 0, 0, 1,\n",
              "       0, 0, 1, 1, 0, 0, 0, 1, 0, 0, 1, 1, 1, 0, 0, 1, 0, 0, 1, 0, 0, 1,\n",
              "       0, 0, 1, 1, 0, 0, 0, 0, 1, 0, 0, 1, 0, 1, 0, 0, 1, 0, 0, 0, 0, 0,\n",
              "       1, 0, 1, 1, 1, 0, 1, 0, 1, 0, 1, 0, 1, 0, 0, 0, 0, 0, 0, 1, 0, 0,\n",
              "       0, 1, 0, 0, 0, 0, 1, 1, 0, 0, 1, 0, 0, 0, 1, 0, 1, 0, 1, 0, 0, 0,\n",
              "       0, 0, 0, 0, 1, 1, 1, 1, 0, 0, 0, 0, 1, 0, 0, 1, 1, 0, 0, 0, 0, 1,\n",
              "       1, 1, 1, 1, 0, 1, 0, 0, 0, 1, 1, 0, 1, 0, 0, 0, 1, 0, 1, 1, 0, 0,\n",
              "       1, 0, 0, 0, 0, 0, 0, 1, 0, 0, 1, 0, 1, 0, 1, 0, 0, 1, 0, 0, 1, 1,\n",
              "       0, 0, 1, 1, 0, 0, 0, 1, 0, 0, 1, 1, 0, 1, 0, 0, 0, 0, 0, 0, 0, 0,\n",
              "       1, 0, 0, 1, 0, 1, 1, 1, 0, 0, 0, 0, 1, 0, 1, 0, 0, 0, 0, 0, 0, 0,\n",
              "       1, 1, 0, 0, 0, 1, 1, 1, 1, 0, 0, 0, 0, 1, 0, 0, 0, 0, 0, 0, 0, 0,\n",
              "       0, 0, 1, 1, 0, 1, 0, 0, 0, 1, 1, 1, 1, 1, 0, 0, 0, 1, 0, 0, 1, 1,\n",
              "       0, 0, 1, 0, 0, 0, 0, 0, 0, 1, 0, 0, 0, 1, 0, 1, 1, 1, 1, 0, 0, 0,\n",
              "       1, 0, 0, 1, 1, 0, 0, 1, 0, 1, 0, 0, 1, 1, 0, 0, 0, 1, 1, 0, 0, 0,\n",
              "       0, 0, 0, 1, 0, 1, 0])"
            ]
          },
          "metadata": {},
          "execution_count": 113
        }
      ]
    },
    {
      "cell_type": "markdown",
      "metadata": {
        "id": "-vY2yn7ZE64h"
      },
      "source": [
        "#Sin Values"
      ]
    },
    {
      "cell_type": "code",
      "metadata": {
        "id": "GdkxLioJXcNM"
      },
      "source": [
        "x = df[['Pclass', 'Age','Siblings/Spouses', 'Parents/Children', 'Fare', 'Male']].values\n",
        "y = df['Survived']"
      ],
      "execution_count": 114,
      "outputs": []
    },
    {
      "cell_type": "code",
      "metadata": {
        "colab": {
          "base_uri": "https://localhost:8080/"
        },
        "id": "GZJNJWI4Xey5",
        "outputId": "ff369019-e0ec-4d49-be91-557d70bd4b23"
      },
      "source": [
        "y"
      ],
      "execution_count": 115,
      "outputs": [
        {
          "output_type": "execute_result",
          "data": {
            "text/plain": [
              "0      0\n",
              "1      1\n",
              "2      1\n",
              "3      1\n",
              "4      0\n",
              "      ..\n",
              "882    0\n",
              "883    1\n",
              "884    0\n",
              "885    1\n",
              "886    0\n",
              "Name: Survived, Length: 887, dtype: int64"
            ]
          },
          "metadata": {},
          "execution_count": 115
        }
      ]
    },
    {
      "cell_type": "markdown",
      "metadata": {
        "id": "HvsQ3J9nbkuN"
      },
      "source": [
        "#Configurar el Modelo"
      ]
    },
    {
      "cell_type": "code",
      "metadata": {
        "id": "Pix_vNKVbnV7"
      },
      "source": [
        "model = LogisticRegression()"
      ],
      "execution_count": 116,
      "outputs": []
    },
    {
      "cell_type": "markdown",
      "metadata": {
        "id": "urMrYZrAbqiq"
      },
      "source": [
        "#Dividir en Train Test"
      ]
    },
    {
      "cell_type": "code",
      "metadata": {
        "id": "mXl5FuCRbm85"
      },
      "source": [
        "X_train, X_test, y_train, y_test = train_test_split(X,y, test_size=0.2, random_state=1234)"
      ],
      "execution_count": 117,
      "outputs": []
    },
    {
      "cell_type": "code",
      "metadata": {
        "id": "EnqCUxqK9sKE"
      },
      "source": [
        ""
      ],
      "execution_count": 117,
      "outputs": []
    },
    {
      "cell_type": "code",
      "metadata": {
        "colab": {
          "base_uri": "https://localhost:8080/"
        },
        "id": "bjMbnCMVYJw6",
        "outputId": "7057bb1d-eab4-4e92-c537-366be0ef566f"
      },
      "source": [
        "y_test"
      ],
      "execution_count": 118,
      "outputs": [
        {
          "output_type": "execute_result",
          "data": {
            "text/plain": [
              "643    0\n",
              "285    0\n",
              "867    1\n",
              "241    0\n",
              "685    0\n",
              "      ..\n",
              "613    0\n",
              "668    0\n",
              "99     0\n",
              "125    0\n",
              "301    1\n",
              "Name: Survived, Length: 178, dtype: int64"
            ]
          },
          "metadata": {},
          "execution_count": 118
        }
      ]
    },
    {
      "cell_type": "markdown",
      "metadata": {
        "id": "0eVfRj5bCi7H"
      },
      "source": [
        "#Entrenar"
      ]
    },
    {
      "cell_type": "code",
      "metadata": {
        "colab": {
          "base_uri": "https://localhost:8080/"
        },
        "id": "GXv3OFloClut",
        "outputId": "627393c2-c72d-4198-a7d6-bbab1fd85c67"
      },
      "source": [
        "model.fit(X_train,y_train)"
      ],
      "execution_count": 119,
      "outputs": [
        {
          "output_type": "execute_result",
          "data": {
            "text/plain": [
              "LogisticRegression()"
            ]
          },
          "metadata": {},
          "execution_count": 119
        }
      ]
    },
    {
      "cell_type": "markdown",
      "metadata": {
        "id": "HQLTAf18cKs6"
      },
      "source": [
        "#Predicciones"
      ]
    },
    {
      "cell_type": "code",
      "metadata": {
        "id": "vygOkfnxcNUV"
      },
      "source": [
        "y_pred = model.predict(X_test)"
      ],
      "execution_count": 120,
      "outputs": []
    },
    {
      "cell_type": "markdown",
      "metadata": {
        "id": "Px81b5cZcSRN"
      },
      "source": [
        "#Analizar las Predicciones"
      ]
    },
    {
      "cell_type": "code",
      "metadata": {
        "id": "clG7U_ancVVv",
        "colab": {
          "base_uri": "https://localhost:8080/"
        },
        "outputId": "5eb3cdc3-5802-4d00-e4a3-b01a7f16bd1a"
      },
      "source": [
        "X_test.shape"
      ],
      "execution_count": 121,
      "outputs": [
        {
          "output_type": "execute_result",
          "data": {
            "text/plain": [
              "(178, 6)"
            ]
          },
          "metadata": {},
          "execution_count": 121
        }
      ]
    },
    {
      "cell_type": "code",
      "metadata": {
        "colab": {
          "base_uri": "https://localhost:8080/"
        },
        "id": "dLPjLgUjDC8a",
        "outputId": "73c07cd6-3b14-4d8c-8378-8a2d9da39086"
      },
      "source": [
        "X_test[:]"
      ],
      "execution_count": 122,
      "outputs": [
        {
          "output_type": "execute_result",
          "data": {
            "text/plain": [
              "array([[3, 19.0, 0, 0, 7.8958, True],\n",
              "       [3, 22.0, 0, 0, 7.8958, True],\n",
              "       [1, 47.0, 1, 1, 52.5542, False],\n",
              "       ...,\n",
              "       [3, 28.0, 0, 0, 7.8958, False],\n",
              "       [3, 19.0, 0, 0, 7.75, True],\n",
              "       [2, 46.0, 0, 0, 12.35, False]], dtype=object)"
            ]
          },
          "metadata": {},
          "execution_count": 122
        }
      ]
    },
    {
      "cell_type": "code",
      "metadata": {
        "colab": {
          "base_uri": "https://localhost:8080/"
        },
        "id": "fCCJYdvEGnXj",
        "outputId": "d44bc94b-843b-42aa-cc45-59a5095ea9c7"
      },
      "source": [
        "y_test[:]"
      ],
      "execution_count": 123,
      "outputs": [
        {
          "output_type": "execute_result",
          "data": {
            "text/plain": [
              "643    0\n",
              "285    0\n",
              "867    1\n",
              "241    0\n",
              "685    0\n",
              "      ..\n",
              "613    0\n",
              "668    0\n",
              "99     0\n",
              "125    0\n",
              "301    1\n",
              "Name: Survived, Length: 178, dtype: int64"
            ]
          },
          "metadata": {},
          "execution_count": 123
        }
      ]
    },
    {
      "cell_type": "code",
      "metadata": {
        "colab": {
          "base_uri": "https://localhost:8080/"
        },
        "id": "43qZl3JFEHOh",
        "outputId": "e2b128b6-b1f3-42b3-feb8-b56ee93f35cb"
      },
      "source": [
        "y_pred[:]"
      ],
      "execution_count": 124,
      "outputs": [
        {
          "output_type": "execute_result",
          "data": {
            "text/plain": [
              "array([0, 0, 1, 0, 0, 0, 0, 1, 0, 1, 0, 0, 1, 0, 1, 0, 1, 0, 0, 0, 1, 0,\n",
              "       1, 1, 1, 1, 0, 1, 1, 0, 0, 1, 1, 1, 1, 0, 0, 0, 0, 0, 0, 1, 1, 1,\n",
              "       0, 0, 0, 0, 0, 0, 0, 0, 0, 1, 0, 0, 0, 0, 1, 0, 1, 1, 0, 1, 0, 0,\n",
              "       0, 0, 1, 0, 0, 1, 0, 1, 0, 1, 0, 0, 1, 0, 1, 0, 1, 0, 0, 0, 0, 1,\n",
              "       0, 1, 1, 0, 0, 0, 0, 1, 0, 0, 0, 0, 1, 0, 0, 0, 0, 1, 1, 0, 0, 0,\n",
              "       0, 1, 0, 0, 1, 0, 0, 0, 0, 1, 1, 1, 1, 0, 0, 1, 1, 0, 0, 1, 0, 1,\n",
              "       1, 0, 1, 0, 0, 0, 0, 0, 1, 0, 1, 0, 0, 0, 1, 0, 1, 1, 1, 0, 1, 1,\n",
              "       1, 0, 1, 1, 0, 0, 0, 0, 1, 0, 0, 0, 0, 0, 0, 0, 0, 0, 0, 0, 0, 1,\n",
              "       0, 1])"
            ]
          },
          "metadata": {},
          "execution_count": 124
        }
      ]
    },
    {
      "cell_type": "markdown",
      "metadata": {
        "id": "6vHMPau1cv4L"
      },
      "source": [
        "#[:] \n",
        "#Sirve para genera un Rango de Valores en el cual se puede especificar el valor."
      ]
    },
    {
      "cell_type": "code",
      "metadata": {
        "id": "oabkN3VKc7gS",
        "colab": {
          "base_uri": "https://localhost:8080/"
        },
        "outputId": "73a8d5bd-c6b5-4828-ac8a-c1752b89dde1"
      },
      "source": [
        "X_test[0:7]"
      ],
      "execution_count": 125,
      "outputs": [
        {
          "output_type": "execute_result",
          "data": {
            "text/plain": [
              "array([[3, 19.0, 0, 0, 7.8958, True],\n",
              "       [3, 22.0, 0, 0, 7.8958, True],\n",
              "       [1, 47.0, 1, 1, 52.5542, False],\n",
              "       [2, 29.0, 0, 0, 10.5, True],\n",
              "       [3, 18.0, 0, 0, 7.7958, True],\n",
              "       [3, 39.0, 0, 0, 7.925, True],\n",
              "       [3, 14.0, 5, 2, 46.9, True]], dtype=object)"
            ]
          },
          "metadata": {},
          "execution_count": 125
        }
      ]
    },
    {
      "cell_type": "code",
      "metadata": {
        "id": "0cfrlvb8dNY9",
        "colab": {
          "base_uri": "https://localhost:8080/"
        },
        "outputId": "521b5518-be64-42d7-ca21-ec29edfbdc96"
      },
      "source": [
        "y_test[0:7]"
      ],
      "execution_count": 126,
      "outputs": [
        {
          "output_type": "execute_result",
          "data": {
            "text/plain": [
              "643    0\n",
              "285    0\n",
              "867    1\n",
              "241    0\n",
              "685    0\n",
              "525    0\n",
              "680    0\n",
              "Name: Survived, dtype: int64"
            ]
          },
          "metadata": {},
          "execution_count": 126
        }
      ]
    },
    {
      "cell_type": "code",
      "metadata": {
        "id": "pZGgmFItdP1q",
        "colab": {
          "base_uri": "https://localhost:8080/"
        },
        "outputId": "bdd151d7-43d5-4096-d6f4-3dee27649064"
      },
      "source": [
        "y_pred[0:7]"
      ],
      "execution_count": 127,
      "outputs": [
        {
          "output_type": "execute_result",
          "data": {
            "text/plain": [
              "array([0, 0, 1, 0, 0, 0, 0])"
            ]
          },
          "metadata": {},
          "execution_count": 127
        }
      ]
    },
    {
      "cell_type": "markdown",
      "metadata": {
        "id": "ajRq8ubseEcu"
      },
      "source": [
        "#Probabilidad"
      ]
    },
    {
      "cell_type": "code",
      "metadata": {
        "id": "Q1-BYrsEeHxv",
        "colab": {
          "base_uri": "https://localhost:8080/"
        },
        "outputId": "e281bd43-3bb4-4b74-8b26-718d7f57f25e"
      },
      "source": [
        "model.predict_proba(X_test)[:,0]"
      ],
      "execution_count": 128,
      "outputs": [
        {
          "output_type": "execute_result",
          "data": {
            "text/plain": [
              "array([0.85750024, 0.87163322, 0.15653626, 0.74869022, 0.852539  ,\n",
              "       0.93085628, 0.95608705, 0.18144388, 0.94066414, 0.07951965,\n",
              "       0.89632751, 0.91037562, 0.29282373, 0.72591669, 0.48655704,\n",
              "       0.87166001, 0.13670495, 0.71597703, 0.93827604, 0.75619016,\n",
              "       0.23757079, 0.78363573, 0.35422468, 0.31831598, 0.34631028,\n",
              "       0.33594669, 0.67204702, 0.27631627, 0.39880546, 0.64460037,\n",
              "       0.89997666, 0.19615527, 0.1018199 , 0.1778387 , 0.2634761 ,\n",
              "       0.90711203, 0.87159192, 0.87163322, 0.86739194, 0.6312331 ,\n",
              "       0.90040994, 0.04206009, 0.07530612, 0.27048188, 0.93096021,\n",
              "       0.90354336, 0.89383097, 0.88698135, 0.82783118, 0.91359925,\n",
              "       0.9382899 , 0.88707112, 0.88599459, 0.47838612, 0.92273844,\n",
              "       0.92427302, 0.65537161, 0.90371014, 0.06654667, 0.92723868,\n",
              "       0.46961866, 0.03972561, 0.57490544, 0.43086134, 0.65618217,\n",
              "       0.96340824, 0.98218192, 0.94499647, 0.17100465, 0.88459089,\n",
              "       0.87607145, 0.16438261, 0.9000359 , 0.13081525, 0.85754897,\n",
              "       0.49428304, 0.84204404, 0.79702622, 0.27630828, 0.8670935 ,\n",
              "       0.20890976, 0.91398892, 0.06280439, 0.89252572, 0.86490309,\n",
              "       0.91986632, 0.96104123, 0.42133551, 0.94352064, 0.18099706,\n",
              "       0.16926354, 0.87167562, 0.74452586, 0.92447493, 0.87607145,\n",
              "       0.33597115, 0.96791762, 0.782877  , 0.91972062, 0.87163322,\n",
              "       0.12821891, 0.91401474, 0.85745513, 0.85903743, 0.89996319,\n",
              "       0.03681221, 0.1801056 , 0.66074471, 0.52801354, 0.54883785,\n",
              "       0.93096402, 0.0620483 , 0.55920482, 0.93813552, 0.11622984,\n",
              "       0.83328688, 0.94681429, 0.89252572, 0.89597011, 0.08535999,\n",
              "       0.04801702, 0.17574534, 0.37654233, 0.94051368, 0.89448363,\n",
              "       0.32711639, 0.24692265, 0.73206475, 0.95445923, 0.27627037,\n",
              "       0.88290184, 0.42084117, 0.31841988, 0.93948936, 0.48678364,\n",
              "       0.68227214, 0.84676354, 0.90155645, 0.91669696, 0.88069505,\n",
              "       0.2592758 , 0.62532877, 0.44405005, 0.85238719, 0.63916041,\n",
              "       0.51441146, 0.32711639, 0.85056564, 0.35571444, 0.08845365,\n",
              "       0.21933071, 0.77304909, 0.40726361, 0.32098828, 0.06446274,\n",
              "       0.77354396, 0.0390354 , 0.35471754, 0.9198972 , 0.88056726,\n",
              "       0.95072668, 0.82783118, 0.07762679, 0.52718363, 0.56853549,\n",
              "       0.91039597, 0.90360029, 0.71597703, 0.84204404, 0.93350743,\n",
              "       0.91033737, 0.90000988, 0.68882935, 0.938177  , 0.56853248,\n",
              "       0.38224895, 0.85754288, 0.29622035])"
            ]
          },
          "metadata": {},
          "execution_count": 128
        }
      ]
    },
    {
      "cell_type": "code",
      "metadata": {
        "id": "pLawi9nPe0uc",
        "colab": {
          "base_uri": "https://localhost:8080/"
        },
        "outputId": "f05987c6-8fa5-4f0a-8734-575e5d32971c"
      },
      "source": [
        "model.predict_proba(X_test)[0,1]"
      ],
      "execution_count": 129,
      "outputs": [
        {
          "output_type": "execute_result",
          "data": {
            "text/plain": [
              "0.14249976100910478"
            ]
          },
          "metadata": {},
          "execution_count": 129
        }
      ]
    },
    {
      "cell_type": "code",
      "metadata": {
        "id": "z8AUzIz1f6HW",
        "colab": {
          "base_uri": "https://localhost:8080/"
        },
        "outputId": "72176584-bc07-4387-819c-3a05fa2cb771"
      },
      "source": [
        "y.shape"
      ],
      "execution_count": 130,
      "outputs": [
        {
          "output_type": "execute_result",
          "data": {
            "text/plain": [
              "(887,)"
            ]
          },
          "metadata": {},
          "execution_count": 130
        }
      ]
    },
    {
      "cell_type": "code",
      "metadata": {
        "id": "fQnrvKUgf_6L",
        "colab": {
          "base_uri": "https://localhost:8080/"
        },
        "outputId": "7070dad8-17db-4411-cbd4-90db1e5ace04"
      },
      "source": [
        "y.sum() # Sobrevivientes"
      ],
      "execution_count": 131,
      "outputs": [
        {
          "output_type": "execute_result",
          "data": {
            "text/plain": [
              "342"
            ]
          },
          "metadata": {},
          "execution_count": 131
        }
      ]
    },
    {
      "cell_type": "code",
      "metadata": {
        "id": "qp6AbTzEgLIK",
        "colab": {
          "base_uri": "https://localhost:8080/"
        },
        "outputId": "fc514f31-e5ad-4482-efe2-dc0283a3c3a3"
      },
      "source": [
        "y.shape - y.sum() #Muertes"
      ],
      "execution_count": 132,
      "outputs": [
        {
          "output_type": "execute_result",
          "data": {
            "text/plain": [
              "array([545])"
            ]
          },
          "metadata": {},
          "execution_count": 132
        }
      ]
    },
    {
      "cell_type": "markdown",
      "metadata": {
        "id": "kkep_SQUg0tE"
      },
      "source": [
        "99.9%  son correos validos\n",
        "\n",
        "0.1 % Son Spam\n",
        "\n",
        "accuracy 99%"
      ]
    },
    {
      "cell_type": "markdown",
      "metadata": {
        "id": "-Of65K60b7iL"
      },
      "source": [
        "#Metricas"
      ]
    },
    {
      "cell_type": "markdown",
      "metadata": {
        "id": "Op8zkXw6d0FL"
      },
      "source": [
        "Accuracy = números de predicción  correctas / total de predicciones."
      ]
    },
    {
      "cell_type": "code",
      "metadata": {
        "id": "AKHP2LkJcFVZ",
        "colab": {
          "base_uri": "https://localhost:8080/"
        },
        "outputId": "5eaf700b-d98c-4800-856e-93d0207e0886"
      },
      "source": [
        "y_pred == y_test"
      ],
      "execution_count": 133,
      "outputs": [
        {
          "output_type": "execute_result",
          "data": {
            "text/plain": [
              "643     True\n",
              "285     True\n",
              "867     True\n",
              "241     True\n",
              "685     True\n",
              "       ...  \n",
              "613     True\n",
              "668     True\n",
              "99     False\n",
              "125     True\n",
              "301     True\n",
              "Name: Survived, Length: 178, dtype: bool"
            ]
          },
          "metadata": {},
          "execution_count": 133
        }
      ]
    },
    {
      "cell_type": "code",
      "metadata": {
        "colab": {
          "base_uri": "https://localhost:8080/"
        },
        "id": "XfGFAobGepzT",
        "outputId": "04a43262-db7a-47bf-9869-4964c17ce859"
      },
      "source": [
        "(y_pred == y_test).sum()"
      ],
      "execution_count": 134,
      "outputs": [
        {
          "output_type": "execute_result",
          "data": {
            "text/plain": [
              "145"
            ]
          },
          "metadata": {},
          "execution_count": 134
        }
      ]
    },
    {
      "cell_type": "code",
      "metadata": {
        "colab": {
          "base_uri": "https://localhost:8080/"
        },
        "id": "QAS3wYQDe1GM",
        "outputId": "f50c22a0-6960-488b-d532-a2106ab5e710"
      },
      "source": [
        "y_test.shape"
      ],
      "execution_count": 135,
      "outputs": [
        {
          "output_type": "execute_result",
          "data": {
            "text/plain": [
              "(178,)"
            ]
          },
          "metadata": {},
          "execution_count": 135
        }
      ]
    },
    {
      "cell_type": "code",
      "metadata": {
        "colab": {
          "base_uri": "https://localhost:8080/"
        },
        "id": "dr3NaiEZe7x_",
        "outputId": "325887fa-c193-4390-873f-a3867a2f4f79"
      },
      "source": [
        "accuracy = (y_pred == y_test).sum() / y_test.shape\n",
        "accuracy"
      ],
      "execution_count": 136,
      "outputs": [
        {
          "output_type": "execute_result",
          "data": {
            "text/plain": [
              "array([0.81460674])"
            ]
          },
          "metadata": {},
          "execution_count": 136
        }
      ]
    },
    {
      "cell_type": "markdown",
      "metadata": {
        "id": "PoN9NYYfcFx-"
      },
      "source": [
        "#Matriz de Confusión"
      ]
    },
    {
      "cell_type": "code",
      "metadata": {
        "id": "mIYE0NNhcM0E",
        "colab": {
          "base_uri": "https://localhost:8080/"
        },
        "outputId": "61819816-26d2-4a40-98b1-a06ed5ba1a76"
      },
      "source": [
        "confusion_matrix(y_test, y_pred)"
      ],
      "execution_count": 137,
      "outputs": [
        {
          "output_type": "execute_result",
          "data": {
            "text/plain": [
              "array([[95, 15],\n",
              "       [18, 50]])"
            ]
          },
          "metadata": {},
          "execution_count": 137
        }
      ]
    },
    {
      "cell_type": "code",
      "metadata": {
        "colab": {
          "base_uri": "https://localhost:8080/",
          "height": 354
        },
        "id": "ybbP_Enbfq8J",
        "outputId": "6a2f3f76-1105-4369-b6ec-c0ebf53ecaf3"
      },
      "source": [
        "plot_confusion_matrix(model,X_test, y_test)"
      ],
      "execution_count": 138,
      "outputs": [
        {
          "output_type": "stream",
          "name": "stderr",
          "text": [
            "/usr/local/lib/python3.7/dist-packages/sklearn/utils/deprecation.py:87: FutureWarning: Function plot_confusion_matrix is deprecated; Function `plot_confusion_matrix` is deprecated in 1.0 and will be removed in 1.2. Use one of the class methods: ConfusionMatrixDisplay.from_predictions or ConfusionMatrixDisplay.from_estimator.\n",
            "  warnings.warn(msg, category=FutureWarning)\n"
          ]
        },
        {
          "output_type": "execute_result",
          "data": {
            "text/plain": [
              "<sklearn.metrics._plot.confusion_matrix.ConfusionMatrixDisplay at 0x7f09a6b1f1d0>"
            ]
          },
          "metadata": {},
          "execution_count": 138
        },
        {
          "output_type": "display_data",
          "data": {
            "image/png": "[encoded data removed]",
            "text/plain": [
              "<Figure size 432x288 with 2 Axes>"
            ]
          },
          "metadata": {
            "needs_background": "light"
          }
        }
      ]
    },
    {
      "cell_type": "code",
      "metadata": {
        "colab": {
          "base_uri": "https://localhost:8080/",
          "height": 354
        },
        "id": "mAk6OUK0f1df",
        "outputId": "d0498caf-37e8-4645-9978-cda58188f956"
      },
      "source": [
        "labels = [\"Not Survived\", \"Suvirved\"]\n",
        "plot_confusion_matrix(model, X_test,y_test,display_labels=labels)"
      ],
      "execution_count": 139,
      "outputs": [
        {
          "output_type": "stream",
          "name": "stderr",
          "text": [
            "/usr/local/lib/python3.7/dist-packages/sklearn/utils/deprecation.py:87: FutureWarning: Function plot_confusion_matrix is deprecated; Function `plot_confusion_matrix` is deprecated in 1.0 and will be removed in 1.2. Use one of the class methods: ConfusionMatrixDisplay.from_predictions or ConfusionMatrixDisplay.from_estimator.\n",
            "  warnings.warn(msg, category=FutureWarning)\n"
          ]
        },
        {
          "output_type": "execute_result",
          "data": {
            "text/plain": [
              "<sklearn.metrics._plot.confusion_matrix.ConfusionMatrixDisplay at 0x7f09a6c0a8d0>"
            ]
          },
          "metadata": {},
          "execution_count": 139
        },
        {
          "output_type": "display_data",
          "data": {
            "image/png": "[encoded data removed]",
            "text/plain": [
              "<Figure size 432x288 with 2 Axes>"
            ]
          },
          "metadata": {
            "needs_background": "light"
          }
        }
      ]
    },
    {
      "cell_type": "code",
      "metadata": {
        "colab": {
          "base_uri": "https://localhost:8080/"
        },
        "id": "tVSSKi2BhSG_",
        "outputId": "b0325fcb-e499-4161-c9cf-d1e13a555708"
      },
      "source": [
        "labels = [\"Not Survived\", \"Suvirved\"]\n",
        "print(classification_report(y_test, y_pred, target_names=labels))"
      ],
      "execution_count": 140,
      "outputs": [
        {
          "output_type": "stream",
          "name": "stdout",
          "text": [
            "              precision    recall  f1-score   support\n",
            "\n",
            "Not Survived       0.84      0.86      0.85       110\n",
            "    Suvirved       0.77      0.74      0.75        68\n",
            "\n",
            "    accuracy                           0.81       178\n",
            "   macro avg       0.80      0.80      0.80       178\n",
            "weighted avg       0.81      0.81      0.81       178\n",
            "\n"
          ]
        }
      ]
    },
    {
      "cell_type": "markdown",
      "metadata": {
        "id": "rEO_GbhSfPp0"
      },
      "source": [
        "#Accuracy de la Confusión Matrix\n",
        "\n",
        "accuracy=suma de Predicciones correctas/total de Predicciones."
      ]
    },
    {
      "cell_type": "code",
      "metadata": {
        "id": "8hclX2P3fXdw",
        "colab": {
          "base_uri": "https://localhost:8080/"
        },
        "outputId": "cee1672d-757f-4725-b9f9-9702ba0e1acd"
      },
      "source": [
        "accuracy = (95 + 50) / (95 + 50 + 15 + 18)\n",
        "accuracy"
      ],
      "execution_count": 141,
      "outputs": [
        {
          "output_type": "execute_result",
          "data": {
            "text/plain": [
              "0.8146067415730337"
            ]
          },
          "metadata": {},
          "execution_count": 141
        }
      ]
    },
    {
      "cell_type": "markdown",
      "metadata": {
        "id": "r5qhQv2tfYFl"
      },
      "source": [
        "#Precisión\n",
        "\n",
        "**Enfocarse en lo que predecimos**\n",
        "\n",
        "¿Que proporción de identificaciones positivas fue realmene correcta?\n",
        "\n",
        "Precisión = Positivos predichos correctamente / predicciones / Total de Predicciones.\n"
      ]
    },
    {
      "cell_type": "code",
      "metadata": {
        "id": "humM4xE-hmdv",
        "colab": {
          "base_uri": "https://localhost:8080/"
        },
        "outputId": "00e0f39d-e184-4b52-a85e-bac75655ac86"
      },
      "source": [
        "precision = 50 / (50 + 15)\n",
        "precision"
      ],
      "execution_count": 142,
      "outputs": [
        {
          "output_type": "execute_result",
          "data": {
            "text/plain": [
              "0.7692307692307693"
            ]
          },
          "metadata": {},
          "execution_count": 142
        }
      ]
    },
    {
      "cell_type": "markdown",
      "metadata": {
        "id": "y_rcuqmBkO3J"
      },
      "source": [
        "#Recall\n",
        "\n",
        "**Tiene que ver con lo que se espera de la Fila**\n",
        "\n",
        "¿Qué Proporcion de Positivos se Identifico Correctamente?\n",
        "\n",
        "recall = True positive/ (True positive + False Negative)\n"
      ]
    },
    {
      "cell_type": "code",
      "metadata": {
        "colab": {
          "base_uri": "https://localhost:8080/"
        },
        "id": "9lsm6G66lMyD",
        "outputId": "af9aa6a0-d720-4c66-d5e7-1407e8a8e6ad"
      },
      "source": [
        "recall = 50 / (50 + 18)\n",
        "recall"
      ],
      "execution_count": 143,
      "outputs": [
        {
          "output_type": "execute_result",
          "data": {
            "text/plain": [
              "0.7352941176470589"
            ]
          },
          "metadata": {},
          "execution_count": 143
        }
      ]
    },
    {
      "cell_type": "markdown",
      "metadata": {
        "id": "32Ng9EJblkoR"
      },
      "source": [
        "# F1 Score\n",
        "\n",
        "**Es el promedio de precisión y recall**\n",
        "\n",
        "f1_score = 2* ((precisión * recall) / (precisión + recall))"
      ]
    },
    {
      "cell_type": "code",
      "metadata": {
        "colab": {
          "base_uri": "https://localhost:8080/"
        },
        "id": "Z0thKINWmFzi",
        "outputId": "01477ebe-dd63-4bc2-a86f-a8d6cf7b00b8"
      },
      "source": [
        "f1 = 2 * ((precision * recall) / (precision + recall))\n",
        "f1"
      ],
      "execution_count": 144,
      "outputs": [
        {
          "output_type": "execute_result",
          "data": {
            "text/plain": [
              "0.7518796992481205"
            ]
          },
          "metadata": {},
          "execution_count": 144
        }
      ]
    },
    {
      "cell_type": "markdown",
      "metadata": {
        "id": "RZ4EhRmgmxq1"
      },
      "source": [
        "#SKLearn Metrics"
      ]
    },
    {
      "cell_type": "code",
      "metadata": {
        "colab": {
          "base_uri": "https://localhost:8080/"
        },
        "id": "_yfBNAdom61I",
        "outputId": "8f0e407e-f718-4e3e-d8a5-f1ed37673302"
      },
      "source": [
        "print(\"Accuracy: {} : {}\".format(accuracy,accuracy_score(y_test,y_pred)))"
      ],
      "execution_count": 145,
      "outputs": [
        {
          "output_type": "stream",
          "name": "stdout",
          "text": [
            "Accuracy: 0.8146067415730337 : 0.8146067415730337\n"
          ]
        }
      ]
    },
    {
      "cell_type": "code",
      "metadata": {
        "colab": {
          "base_uri": "https://localhost:8080/"
        },
        "id": "UtjDeLS5qj9w",
        "outputId": "f6bb0082-8469-477d-e0f8-9b576707c253"
      },
      "source": [
        "print(\"Precision: {} : {}\".format(precision, precision_score(y_test,y_pred)))"
      ],
      "execution_count": 146,
      "outputs": [
        {
          "output_type": "stream",
          "name": "stdout",
          "text": [
            "Precision: 0.7692307692307693 : 0.7692307692307693\n"
          ]
        }
      ]
    },
    {
      "cell_type": "code",
      "metadata": {
        "colab": {
          "base_uri": "https://localhost:8080/"
        },
        "id": "CnSn9NdNsRBO",
        "outputId": "18fd2f0c-f354-4b6d-88b7-4f2d810c41ec"
      },
      "source": [
        "print(\"recall: {} : {}\".format(recall, recall_score(y_test,y_pred)))"
      ],
      "execution_count": 147,
      "outputs": [
        {
          "output_type": "stream",
          "name": "stdout",
          "text": [
            "recall: 0.7352941176470589 : 0.7352941176470589\n"
          ]
        }
      ]
    },
    {
      "cell_type": "code",
      "metadata": {
        "colab": {
          "base_uri": "https://localhost:8080/"
        },
        "id": "8tjlH7FAs9R9",
        "outputId": "64a70af4-a91f-49ef-a329-a468a4004059"
      },
      "source": [
        "print(\"F1 Score: {} : {}\".format(f1, f1_score(y_test,y_pred)))"
      ],
      "execution_count": 148,
      "outputs": [
        {
          "output_type": "stream",
          "name": "stdout",
          "text": [
            "F1 Score: 0.7518796992481205 : 0.7518796992481205\n"
          ]
        }
      ]
    },
    {
      "cell_type": "code",
      "metadata": {
        "colab": {
          "base_uri": "https://localhost:8080/"
        },
        "id": "mj7iro6jtrsl",
        "outputId": "f0c9b771-1fea-4a90-f5ca-ddec54ec0f7c"
      },
      "source": [
        "print(classification_report(y_test,y_pred))"
      ],
      "execution_count": 149,
      "outputs": [
        {
          "output_type": "stream",
          "name": "stdout",
          "text": [
            "              precision    recall  f1-score   support\n",
            "\n",
            "           0       0.84      0.86      0.85       110\n",
            "           1       0.77      0.74      0.75        68\n",
            "\n",
            "    accuracy                           0.81       178\n",
            "   macro avg       0.80      0.80      0.80       178\n",
            "weighted avg       0.81      0.81      0.81       178\n",
            "\n"
          ]
        }
      ]
    },
    {
      "cell_type": "markdown",
      "metadata": {
        "id": "JjBQf_19uVtc"
      },
      "source": [
        "# Cambiar el umbral (Thershold)"
      ]
    },
    {
      "cell_type": "code",
      "metadata": {
        "colab": {
          "base_uri": "https://localhost:8080/"
        },
        "id": "FLIGq1G-vC0g",
        "outputId": "867261ec-1adb-4735-a5b2-5b2a0bb01b5a"
      },
      "source": [
        "model.predict_proba(X_test)[:,1]"
      ],
      "execution_count": 150,
      "outputs": [
        {
          "output_type": "execute_result",
          "data": {
            "text/plain": [
              "array([0.14249976, 0.12836678, 0.84346374, 0.25130978, 0.147461  ,\n",
              "       0.06914372, 0.04391295, 0.81855612, 0.05933586, 0.92048035,\n",
              "       0.10367249, 0.08962438, 0.70717627, 0.27408331, 0.51344296,\n",
              "       0.12833999, 0.86329505, 0.28402297, 0.06172396, 0.24380984,\n",
              "       0.76242921, 0.21636427, 0.64577532, 0.68168402, 0.65368972,\n",
              "       0.66405331, 0.32795298, 0.72368373, 0.60119454, 0.35539963,\n",
              "       0.10002334, 0.80384473, 0.8981801 , 0.8221613 , 0.7365239 ,\n",
              "       0.09288797, 0.12840808, 0.12836678, 0.13260806, 0.3687669 ,\n",
              "       0.09959006, 0.95793991, 0.92469388, 0.72951812, 0.06903979,\n",
              "       0.09645664, 0.10616903, 0.11301865, 0.17216882, 0.08640075,\n",
              "       0.0617101 , 0.11292888, 0.11400541, 0.52161388, 0.07726156,\n",
              "       0.07572698, 0.34462839, 0.09628986, 0.93345333, 0.07276132,\n",
              "       0.53038134, 0.96027439, 0.42509456, 0.56913866, 0.34381783,\n",
              "       0.03659176, 0.01781808, 0.05500353, 0.82899535, 0.11540911,\n",
              "       0.12392855, 0.83561739, 0.0999641 , 0.86918475, 0.14245103,\n",
              "       0.50571696, 0.15795596, 0.20297378, 0.72369172, 0.1329065 ,\n",
              "       0.79109024, 0.08601108, 0.93719561, 0.10747428, 0.13509691,\n",
              "       0.08013368, 0.03895877, 0.57866449, 0.05647936, 0.81900294,\n",
              "       0.83073646, 0.12832438, 0.25547414, 0.07552507, 0.12392855,\n",
              "       0.66402885, 0.03208238, 0.217123  , 0.08027938, 0.12836678,\n",
              "       0.87178109, 0.08598526, 0.14254487, 0.14096257, 0.10003681,\n",
              "       0.96318779, 0.8198944 , 0.33925529, 0.47198646, 0.45116215,\n",
              "       0.06903598, 0.9379517 , 0.44079518, 0.06186448, 0.88377016,\n",
              "       0.16671312, 0.05318571, 0.10747428, 0.10402989, 0.91464001,\n",
              "       0.95198298, 0.82425466, 0.62345767, 0.05948632, 0.10551637,\n",
              "       0.67288361, 0.75307735, 0.26793525, 0.04554077, 0.72372963,\n",
              "       0.11709816, 0.57915883, 0.68158012, 0.06051064, 0.51321636,\n",
              "       0.31772786, 0.15323646, 0.09844355, 0.08330304, 0.11930495,\n",
              "       0.7407242 , 0.37467123, 0.55594995, 0.14761281, 0.36083959,\n",
              "       0.48558854, 0.67288361, 0.14943436, 0.64428556, 0.91154635,\n",
              "       0.78066929, 0.22695091, 0.59273639, 0.67901172, 0.93553726,\n",
              "       0.22645604, 0.9609646 , 0.64528246, 0.0801028 , 0.11943274,\n",
              "       0.04927332, 0.17216882, 0.92237321, 0.47281637, 0.43146451,\n",
              "       0.08960403, 0.09639971, 0.28402297, 0.15795596, 0.06649257,\n",
              "       0.08966263, 0.09999012, 0.31117065, 0.061823  , 0.43146752,\n",
              "       0.61775105, 0.14245712, 0.70377965])"
            ]
          },
          "metadata": {},
          "execution_count": 150
        }
      ]
    },
    {
      "cell_type": "code",
      "metadata": {
        "colab": {
          "base_uri": "https://localhost:8080/"
        },
        "id": "QltAbQJouf42",
        "outputId": "43d6463d-265f-43c5-f3e2-6770354c7bd9"
      },
      "source": [
        "model.predict_proba(X_test)[:,1] > 0.75"
      ],
      "execution_count": 151,
      "outputs": [
        {
          "output_type": "execute_result",
          "data": {
            "text/plain": [
              "array([False, False,  True, False, False, False, False,  True, False,\n",
              "        True, False, False, False, False, False, False,  True, False,\n",
              "       False, False,  True, False, False, False, False, False, False,\n",
              "       False, False, False, False,  True,  True,  True, False, False,\n",
              "       False, False, False, False, False,  True,  True, False, False,\n",
              "       False, False, False, False, False, False, False, False, False,\n",
              "       False, False, False, False,  True, False, False,  True, False,\n",
              "       False, False, False, False, False,  True, False, False,  True,\n",
              "       False,  True, False, False, False, False, False, False,  True,\n",
              "       False,  True, False, False, False, False, False, False,  True,\n",
              "        True, False, False, False, False, False, False, False, False,\n",
              "       False,  True, False, False, False, False,  True,  True, False,\n",
              "       False, False, False,  True, False, False,  True, False, False,\n",
              "       False, False,  True,  True,  True, False, False, False, False,\n",
              "        True, False, False, False, False, False, False, False, False,\n",
              "       False, False, False, False, False, False, False, False, False,\n",
              "       False, False, False, False, False,  True,  True, False, False,\n",
              "       False,  True, False,  True, False, False, False, False, False,\n",
              "        True, False, False, False, False, False, False, False, False,\n",
              "       False, False, False, False, False, False, False])"
            ]
          },
          "metadata": {},
          "execution_count": 151
        }
      ]
    },
    {
      "cell_type": "markdown",
      "metadata": {
        "id": "hsSSQRffvqi0"
      },
      "source": [
        "#Cambio a\n",
        "\n",
        "**y_pred**"
      ]
    },
    {
      "cell_type": "code",
      "metadata": {
        "id": "-oLJGbUIv7aG"
      },
      "source": [
        "y_pred = model.predict_proba(X_test)[:,1] > 0.75"
      ],
      "execution_count": 152,
      "outputs": []
    },
    {
      "cell_type": "code",
      "metadata": {
        "colab": {
          "base_uri": "https://localhost:8080/"
        },
        "id": "aq1MU-nKwZNQ",
        "outputId": "1516b4f7-05aa-49cc-9138-d7719ad52e34"
      },
      "source": [
        "print(classification_report(y_test,y_pred))"
      ],
      "execution_count": 153,
      "outputs": [
        {
          "output_type": "stream",
          "name": "stdout",
          "text": [
            "              precision    recall  f1-score   support\n",
            "\n",
            "           0       0.75      0.99      0.85       110\n",
            "           1       0.97      0.47      0.63        68\n",
            "\n",
            "    accuracy                           0.79       178\n",
            "   macro avg       0.86      0.73      0.74       178\n",
            "weighted avg       0.83      0.79      0.77       178\n",
            "\n"
          ]
        }
      ]
    },
    {
      "cell_type": "markdown",
      "metadata": {
        "id": "Mike_80DxQ9W"
      },
      "source": [
        "#Conclusión\n",
        "\n",
        "Considero que este tipo de actividad fue muy interesante ya que las predicciones son muy importantes dentro de la mineria de datos, el uso de las metricas nos ayudan a entender mejor los datos ya que si existe alguna anomalia podemos encontrarla mediante los metodos que se realizan, ademas de que las grafias nos ayudan a comprender como esta realmente los datos. Creo que el saber analizar este tipo de datos nos ayuda a verificar que esta mal dentro de un dataframe. Yo creo que tambien es muy bueno comenzar a analizar este tipo de ejercicios ya que no siempre los datos vienen en orden, si no que en algunos casos hay que trabajar con ellos y darles un buen analisis, para su uso, en este caso los datos venian amigables, pero me imagino que existen otros csv, un poco complejos que se podrian resolver con diferentes técnicas."
      ]
    }
  ]
}